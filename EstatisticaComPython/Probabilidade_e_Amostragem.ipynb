{
 "cells": [
  {
   "cell_type": "markdown",
   "id": "215c059e",
   "metadata": {},
   "source": [
    "<h2 style=\"background-color: #251351; color: white;padding:10px; text-align: left;\">Probabilidade e Amostragem - Curso 2</h2>  \n"
   ]
  },
  {
   "cell_type": "code",
   "execution_count": 1,
   "id": "c50f02f9",
   "metadata": {},
   "outputs": [],
   "source": [
    "import pandas as pd\n",
    "import numpy as np\n",
    "import matplotlib.pyplot as plt"
   ]
  },
  {
   "cell_type": "code",
   "execution_count": 2,
   "id": "c3f17fc8",
   "metadata": {},
   "outputs": [],
   "source": [
    "dados = pd.read_csv(\"dados.csv\")"
   ]
  },
  {
   "cell_type": "code",
   "execution_count": 3,
   "id": "43e29f27",
   "metadata": {},
   "outputs": [
    {
     "data": {
      "text/html": [
       "<div>\n",
       "<style scoped>\n",
       "    .dataframe tbody tr th:only-of-type {\n",
       "        vertical-align: middle;\n",
       "    }\n",
       "\n",
       "    .dataframe tbody tr th {\n",
       "        vertical-align: top;\n",
       "    }\n",
       "\n",
       "    .dataframe thead th {\n",
       "        text-align: right;\n",
       "    }\n",
       "</style>\n",
       "<table border=\"1\" class=\"dataframe\">\n",
       "  <thead>\n",
       "    <tr style=\"text-align: right;\">\n",
       "      <th></th>\n",
       "      <th>UF</th>\n",
       "      <th>Sexo</th>\n",
       "      <th>Idade</th>\n",
       "      <th>Cor</th>\n",
       "      <th>Anos de Estudo</th>\n",
       "      <th>Renda</th>\n",
       "      <th>Altura</th>\n",
       "    </tr>\n",
       "  </thead>\n",
       "  <tbody>\n",
       "    <tr>\n",
       "      <th>0</th>\n",
       "      <td>11</td>\n",
       "      <td>0</td>\n",
       "      <td>23</td>\n",
       "      <td>8</td>\n",
       "      <td>12</td>\n",
       "      <td>800</td>\n",
       "      <td>1.603808</td>\n",
       "    </tr>\n",
       "    <tr>\n",
       "      <th>1</th>\n",
       "      <td>11</td>\n",
       "      <td>1</td>\n",
       "      <td>23</td>\n",
       "      <td>2</td>\n",
       "      <td>12</td>\n",
       "      <td>1150</td>\n",
       "      <td>1.739790</td>\n",
       "    </tr>\n",
       "    <tr>\n",
       "      <th>2</th>\n",
       "      <td>11</td>\n",
       "      <td>1</td>\n",
       "      <td>35</td>\n",
       "      <td>8</td>\n",
       "      <td>15</td>\n",
       "      <td>880</td>\n",
       "      <td>1.760444</td>\n",
       "    </tr>\n",
       "    <tr>\n",
       "      <th>3</th>\n",
       "      <td>11</td>\n",
       "      <td>0</td>\n",
       "      <td>46</td>\n",
       "      <td>2</td>\n",
       "      <td>6</td>\n",
       "      <td>3500</td>\n",
       "      <td>1.783158</td>\n",
       "    </tr>\n",
       "    <tr>\n",
       "      <th>4</th>\n",
       "      <td>11</td>\n",
       "      <td>1</td>\n",
       "      <td>47</td>\n",
       "      <td>8</td>\n",
       "      <td>9</td>\n",
       "      <td>150</td>\n",
       "      <td>1.690631</td>\n",
       "    </tr>\n",
       "  </tbody>\n",
       "</table>\n",
       "</div>"
      ],
      "text/plain": [
       "   UF  Sexo  Idade  Cor  Anos de Estudo  Renda    Altura\n",
       "0  11     0     23    8              12    800  1.603808\n",
       "1  11     1     23    2              12   1150  1.739790\n",
       "2  11     1     35    8              15    880  1.760444\n",
       "3  11     0     46    2               6   3500  1.783158\n",
       "4  11     1     47    8               9    150  1.690631"
      ]
     },
     "execution_count": 3,
     "metadata": {},
     "output_type": "execute_result"
    }
   ],
   "source": [
    "dados.head()\n",
    "\n",
    "# Dados estão codificados. A altura foi "
   ]
  },
  {
   "cell_type": "markdown",
   "id": "8daa1fa9",
   "metadata": {},
   "source": [
    "> \n",
    "> $$\n",
    "> P(k) = \\binom{n}{k}p^k q^{n-k} \n",
    "> $$\n",
    ">\n",
    "> $p$ : probabilidade de sucesso  \n",
    "> $q = 1 - p$ : probabilidade de fracasso  \n",
    "> $n$ : número de eventos estudados  \n",
    "> $k$ : número de eventos desejados que tenham sucesso"
   ]
  },
  {
   "cell_type": "code",
   "execution_count": 4,
   "id": "17e83774",
   "metadata": {},
   "outputs": [],
   "source": [
    "from scipy.special import comb\n",
    "from scipy.stats import binom"
   ]
  },
  {
   "cell_type": "code",
   "execution_count": 5,
   "id": "8b7026f7",
   "metadata": {},
   "outputs": [
    {
     "name": "stdout",
     "output_type": "stream",
     "text": [
      "Probabilidade de ganhar na mega-sena: 0.000000019974489\n"
     ]
    }
   ],
   "source": [
    "# Probabilidade de ganhar na loteria com um bilhete\n",
    "print(f'Probabilidade de ganhar na mega-sena: {1/comb(60,6):.15f}')"
   ]
  },
  {
   "cell_type": "markdown",
   "id": "5bd4ea53",
   "metadata": {},
   "source": [
    "> __Problema__: Concurso com 10 questões múltipla escolha com 3 alternativas cada. __Cada questão tem o mesmo valor__. Um candidato chuta todas as questões. Assumindo que a prova vale 10 pontos e que a nota de corte seja 5, obtenha a probabilidade de o candidato acertar 5 questões e também a probabilidade deste candidato __passar para a próxima etapa do processo seletivo__"
   ]
  },
  {
   "cell_type": "code",
   "execution_count": 6,
   "id": "b7d06804",
   "metadata": {},
   "outputs": [
    {
     "name": "stdout",
     "output_type": "stream",
     "text": [
      "13.7%\n"
     ]
    }
   ],
   "source": [
    "# Acertar 5 questões\n",
    "n = 10\n",
    "\n",
    "# Ensaios independentes? Sim, o candidato está chutando\n",
    "# Somente dois resultados são possíveis em cada ensaio? Ou acerta a questão ou erra.\n",
    "\n",
    "# Qual a probabilidade de sucesso?\n",
    "num_alternativas_por_questao = 3\n",
    "p = 1 / num_alternativas_por_questao\n",
    "# Qual a probabilidade de fracasso?\n",
    "q = 1 - p\n",
    "# Qual o total de eventos que se deseja ter sucesso, i.e, P(k)? (k=5) (k=6,7,8,9,10)\n",
    "k5 = 5\n",
    "prob_5 = comb(n, k5) * (p**k5) * (q ** (n-k5))\n",
    "\n",
    "print(f'{prob_5:.1%}')"
   ]
  },
  {
   "cell_type": "markdown",
   "id": "a28ed969",
   "metadata": {},
   "source": [
    "Resolvendo com `binom`."
   ]
  },
  {
   "cell_type": "code",
   "execution_count": 7,
   "id": "fded8a3a",
   "metadata": {},
   "outputs": [
    {
     "data": {
      "text/plain": [
       "0.1365645480871816"
      ]
     },
     "execution_count": 7,
     "metadata": {},
     "output_type": "execute_result"
    }
   ],
   "source": [
    "# Probability mass function\n",
    "binom.pmf(k5, n, p)"
   ]
  },
  {
   "cell_type": "markdown",
   "id": "aa1b3c03",
   "metadata": {},
   "source": [
    "Probabilidade do candidato passar:\n",
    "$$\n",
    "P(\\text{acertar}\\ge 5) = P(5) + P(6) + P(7) + P(8) + P(9) + + P(10)\n",
    "$$"
   ]
  },
  {
   "cell_type": "code",
   "execution_count": 13,
   "id": "57af8cf0",
   "metadata": {},
   "outputs": [
    {
     "name": "stdout",
     "output_type": "stream",
     "text": [
      "21.3%\n"
     ]
    }
   ],
   "source": [
    "binom.pmf([5,6,7,8,9,10], n, p)\n",
    "print(f'{sum(binom.pmf([5,6,7,8,9,10], n, p)):.1%}') "
   ]
  },
  {
   "cell_type": "code",
   "execution_count": 14,
   "id": "4b6881f1",
   "metadata": {},
   "outputs": [
    {
     "data": {
      "text/plain": [
       "0.7868719199309048"
      ]
     },
     "execution_count": 14,
     "metadata": {},
     "output_type": "execute_result"
    }
   ],
   "source": [
    "# Cumulative distribution function (cdf)\n",
    "binom.cdf(4, n, p)"
   ]
  },
  {
   "cell_type": "code",
   "execution_count": 15,
   "id": "0cf7b528",
   "metadata": {},
   "outputs": [
    {
     "data": {
      "text/plain": [
       "0.21312808006909525"
      ]
     },
     "execution_count": 15,
     "metadata": {},
     "output_type": "execute_result"
    }
   ],
   "source": [
    "# Survival Function\n",
    "binom.sf(4, n, p)"
   ]
  },
  {
   "cell_type": "markdown",
   "id": "c2782a4b",
   "metadata": {},
   "source": [
    "> Uma moeda, perfeitamente equilibrada, é lançada para o alto quatro vezes. Utilizando a distribuição binomial, obtenha a probabilidade de a moeda cair com a face coroa voltada para cima duas vezes:\n"
   ]
  },
  {
   "cell_type": "code",
   "execution_count": 17,
   "id": "3741fe42",
   "metadata": {},
   "outputs": [
    {
     "data": {
      "text/plain": [
       "0.375"
      ]
     },
     "execution_count": 17,
     "metadata": {},
     "output_type": "execute_result"
    }
   ],
   "source": [
    "binom.pmf(\n",
    "    2, # numero de sucessos\n",
    "    4, # total de lancamentos\n",
    "    1/2 # prob de coroa\n",
    ")"
   ]
  },
  {
   "cell_type": "markdown",
   "id": "7779e5fd",
   "metadata": {},
   "source": [
    "> Um dado, perfeitamente equilibrado, é lançado para o alto dez vezes. Utilizando a distribuição binomial, obtenha a probabilidade de o dado cair com o número cinco voltado para cima __pelo menos três vezes__."
   ]
  },
  {
   "cell_type": "code",
   "execution_count": null,
   "id": "8bb51761",
   "metadata": {},
   "outputs": [
    {
     "data": {
      "text/plain": [
       "0.22477320212874055"
      ]
     },
     "execution_count": 20,
     "metadata": {},
     "output_type": "execute_result"
    }
   ],
   "source": [
    "# Pelo menos três vezes = [3,4,5,6,7,8,9,10]\n",
    "binom.sf(\n",
    "    2, # numero de sucessos >=\n",
    "    10, # total de lancamentos\n",
    "    1/6 # prob de coroa\n",
    ")"
   ]
  }
 ],
 "metadata": {
  "kernelspec": {
   "display_name": "base",
   "language": "python",
   "name": "python3"
  },
  "language_info": {
   "codemirror_mode": {
    "name": "ipython",
    "version": 3
   },
   "file_extension": ".py",
   "mimetype": "text/x-python",
   "name": "python",
   "nbconvert_exporter": "python",
   "pygments_lexer": "ipython3",
   "version": "3.12.7"
  }
 },
 "nbformat": 4,
 "nbformat_minor": 5
}
