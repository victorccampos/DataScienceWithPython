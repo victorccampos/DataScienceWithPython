{
 "cells": [
  {
   "cell_type": "markdown",
   "id": "56a5797e",
   "metadata": {},
   "source": [
    "<h1 style=\"background-color: #251351; color: white;padding:10px; text-align: center;\">Probabilidade e Amostragem - Curso 2</h1>  \n"
   ]
  },
  {
   "cell_type": "markdown",
   "id": "669e85a7",
   "metadata": {},
   "source": [
    "\n",
    "<h2 style=\"background-color: #251351; color: white;padding:10px; text-align: center;\">Distribuição de Poisson</h2>  \n",
    "\n",
    "$$f(k) = \\exp(-\\mu) \\frac{\\mu^k}{k!}$$\n"
   ]
  },
  {
   "cell_type": "code",
   "execution_count": 17,
   "id": "e72d0865",
   "metadata": {},
   "outputs": [],
   "source": [
    "import numpy as np\n",
    "from math import factorial"
   ]
  },
  {
   "cell_type": "markdown",
   "id": "49cf195f",
   "metadata": {},
   "source": [
    "Um restaurante recebe em média __20 pedidos por hora__. Qual a chance de que, em determinada hora escolhida ao acaso o restaurante receba __15 pedidos__? "
   ]
  },
  {
   "cell_type": "code",
   "execution_count": 16,
   "id": "03514a29",
   "metadata": {},
   "outputs": [],
   "source": [
    "def my_poisson(mu, k):\n",
    "    return np.e**-mu * (mu**k) / factorial(k)"
   ]
  },
  {
   "cell_type": "code",
   "execution_count": 18,
   "id": "16fcd747",
   "metadata": {},
   "outputs": [
    {
     "data": {
      "text/plain": [
       "0.0516488535317584"
      ]
     },
     "execution_count": 18,
     "metadata": {},
     "output_type": "execute_result"
    }
   ],
   "source": [
    "my_poisson(20, 15)"
   ]
  },
  {
   "cell_type": "markdown",
   "id": "33891ede",
   "metadata": {},
   "source": [
    "Utilizando o scipy"
   ]
  },
  {
   "cell_type": "code",
   "execution_count": 19,
   "id": "f5cfcaa3",
   "metadata": {},
   "outputs": [],
   "source": [
    "from scipy.stats import poisson"
   ]
  },
  {
   "cell_type": "code",
   "execution_count": 20,
   "id": "cff01cf4",
   "metadata": {},
   "outputs": [
    {
     "data": {
      "text/plain": [
       "0.05164885353175814"
      ]
     },
     "execution_count": 20,
     "metadata": {},
     "output_type": "execute_result"
    }
   ],
   "source": [
    "k = 15\n",
    "mu = 20 \n",
    "poisson.pmf(k, mu)"
   ]
  },
  {
   "cell_type": "markdown",
   "id": "0030144f",
   "metadata": {},
   "source": [
    "> O número médio de clientes que entram em uma padaria por hora é igual a 20. Obtenha a probabilidade de, na próxima hora, entrarem exatamente 25 clientes."
   ]
  },
  {
   "cell_type": "code",
   "execution_count": 25,
   "id": "d0f9f015",
   "metadata": {},
   "outputs": [
    {
     "name": "stdout",
     "output_type": "stream",
     "text": [
      "Probabilidade = 4.5%\n"
     ]
    }
   ],
   "source": [
    "mu: int = 20\n",
    "k: int = 25\n",
    "\n",
    "probabilidade = poisson.pmf(25, 20)\n",
    "print(f\"Probabilidade = {probabilidade:.1%}\")"
   ]
  }
 ],
 "metadata": {
  "kernelspec": {
   "display_name": "base",
   "language": "python",
   "name": "python3"
  },
  "language_info": {
   "codemirror_mode": {
    "name": "ipython",
    "version": 3
   },
   "file_extension": ".py",
   "mimetype": "text/x-python",
   "name": "python",
   "nbconvert_exporter": "python",
   "pygments_lexer": "ipython3",
   "version": "3.12.7"
  }
 },
 "nbformat": 4,
 "nbformat_minor": 5
}
