{
 "cells": [
  {
   "cell_type": "markdown",
   "id": "215c059e",
   "metadata": {},
   "source": [
    "<h1 style=\"background-color: #251351; color: white;padding:10px; text-align: center;\">Probabilidade e Amostragem - Curso 2</h1>  \n"
   ]
  },
  {
   "cell_type": "markdown",
   "id": "1b77f93f",
   "metadata": {},
   "source": [
    "<h2 style=\"background-color: #251351; color: white;padding:10px; text-align: center;\">Distribuição binomial</h2>  \n"
   ]
  },
  {
   "cell_type": "markdown",
   "id": "8daa1fa9",
   "metadata": {},
   "source": [
    "> \n",
    "> $$\n",
    "> P(k) = \\binom{n}{k}p^k q^{n-k} \n",
    "> $$\n",
    ">\n",
    "> $p$ : probabilidade de sucesso  \n",
    "> $q = 1 - p$ : probabilidade de fracasso  \n",
    "> $n$ : número de eventos estudados  \n",
    "> $k$ : número de eventos desejados que tenham sucesso"
   ]
  },
  {
   "cell_type": "code",
   "execution_count": 2,
   "id": "17e83774",
   "metadata": {},
   "outputs": [],
   "source": [
    "from scipy.special import comb\n",
    "from scipy.stats import binom"
   ]
  },
  {
   "cell_type": "code",
   "execution_count": 3,
   "id": "8b7026f7",
   "metadata": {},
   "outputs": [
    {
     "name": "stdout",
     "output_type": "stream",
     "text": [
      "Probabilidade de ganhar na mega-sena: 0.000000019974489\n"
     ]
    }
   ],
   "source": [
    "# Probabilidade de ganhar na loteria com um bilhete\n",
    "print(f'Probabilidade de ganhar na mega-sena: {1/comb(60,6):.15f}')"
   ]
  },
  {
   "cell_type": "markdown",
   "id": "5bd4ea53",
   "metadata": {},
   "source": [
    "> __Problema__: Concurso com 10 questões múltipla escolha com 3 alternativas cada. __Cada questão tem o mesmo valor__. Um candidato chuta todas as questões. Assumindo que a prova vale 10 pontos e que a nota de corte seja 5, obtenha a probabilidade de o candidato acertar 5 questões e também a probabilidade deste candidato __passar para a próxima etapa do processo seletivo__"
   ]
  },
  {
   "cell_type": "code",
   "execution_count": 4,
   "id": "b7d06804",
   "metadata": {},
   "outputs": [
    {
     "name": "stdout",
     "output_type": "stream",
     "text": [
      "13.7%\n"
     ]
    }
   ],
   "source": [
    "# Acertar 5 questões\n",
    "n = 10\n",
    "\n",
    "# Ensaios independentes? Sim, o candidato está chutando\n",
    "# Somente dois resultados são possíveis em cada ensaio? Ou acerta a questão ou erra.\n",
    "\n",
    "# Qual a probabilidade de sucesso?\n",
    "num_alternativas_por_questao = 3\n",
    "p = 1 / num_alternativas_por_questao\n",
    "# Qual a probabilidade de fracasso?\n",
    "q = 1 - p\n",
    "# Qual o total de eventos que se deseja ter sucesso, i.e, P(k)? (k=5) (k=6,7,8,9,10)\n",
    "k5 = 5\n",
    "prob_5 = comb(n, k5) * (p**k5) * (q ** (n-k5))\n",
    "\n",
    "print(f'{prob_5:.1%}')"
   ]
  },
  {
   "cell_type": "markdown",
   "id": "a28ed969",
   "metadata": {},
   "source": [
    "Resolvendo com `binom`."
   ]
  },
  {
   "cell_type": "code",
   "execution_count": 5,
   "id": "fded8a3a",
   "metadata": {},
   "outputs": [
    {
     "data": {
      "text/plain": [
       "0.1365645480871816"
      ]
     },
     "execution_count": 5,
     "metadata": {},
     "output_type": "execute_result"
    }
   ],
   "source": [
    "# Probability mass function\n",
    "binom.pmf(k5, n, p)"
   ]
  },
  {
   "cell_type": "markdown",
   "id": "aa1b3c03",
   "metadata": {},
   "source": [
    "Probabilidade do candidato passar:\n",
    "$$\n",
    "P(\\text{acertar}\\ge 5) = P(5) + P(6) + P(7) + P(8) + P(9) + + P(10)\n",
    "$$"
   ]
  },
  {
   "cell_type": "code",
   "execution_count": 6,
   "id": "57af8cf0",
   "metadata": {},
   "outputs": [
    {
     "name": "stdout",
     "output_type": "stream",
     "text": [
      "21.3%\n"
     ]
    }
   ],
   "source": [
    "binom.pmf([5,6,7,8,9,10], n, p)\n",
    "print(f'{sum(binom.pmf([5,6,7,8,9,10], n, p)):.1%}') "
   ]
  },
  {
   "cell_type": "code",
   "execution_count": 7,
   "id": "4b6881f1",
   "metadata": {},
   "outputs": [
    {
     "data": {
      "text/plain": [
       "0.7868719199309048"
      ]
     },
     "execution_count": 7,
     "metadata": {},
     "output_type": "execute_result"
    }
   ],
   "source": [
    "# Cumulative distribution function (cdf)\n",
    "binom.cdf(4, n, p)"
   ]
  },
  {
   "cell_type": "code",
   "execution_count": 8,
   "id": "0cf7b528",
   "metadata": {},
   "outputs": [
    {
     "data": {
      "text/plain": [
       "0.21312808006909525"
      ]
     },
     "execution_count": 8,
     "metadata": {},
     "output_type": "execute_result"
    }
   ],
   "source": [
    "# Survival Function\n",
    "binom.sf(4, n, p)"
   ]
  },
  {
   "cell_type": "markdown",
   "id": "c2782a4b",
   "metadata": {},
   "source": [
    "> Uma moeda, perfeitamente equilibrada, é lançada para o alto quatro vezes. Utilizando a distribuição binomial, obtenha a probabilidade de a moeda cair com a face coroa voltada para cima duas vezes:\n"
   ]
  },
  {
   "cell_type": "code",
   "execution_count": 9,
   "id": "3741fe42",
   "metadata": {},
   "outputs": [
    {
     "data": {
      "text/plain": [
       "0.375"
      ]
     },
     "execution_count": 9,
     "metadata": {},
     "output_type": "execute_result"
    }
   ],
   "source": [
    "binom.pmf(\n",
    "    2, # numero de sucessos\n",
    "    4, # total de lancamentos\n",
    "    1/2 # prob de coroa\n",
    ")"
   ]
  },
  {
   "cell_type": "markdown",
   "id": "7779e5fd",
   "metadata": {},
   "source": [
    "> Um dado, perfeitamente equilibrado, é lançado para o alto dez vezes. Utilizando a distribuição binomial, obtenha a probabilidade de o dado cair com o número cinco voltado para cima __pelo menos três vezes__."
   ]
  },
  {
   "cell_type": "code",
   "execution_count": 10,
   "id": "8bb51761",
   "metadata": {},
   "outputs": [
    {
     "data": {
      "text/plain": [
       "0.22477320212874055"
      ]
     },
     "execution_count": 10,
     "metadata": {},
     "output_type": "execute_result"
    }
   ],
   "source": [
    "# Pelo menos três vezes = [3,4,5,6,7,8,9,10]\n",
    "binom.sf(\n",
    "    2, # numero de sucessos >=\n",
    "    10, # total de lancamentos\n",
    "    1/6 # prob de coroa\n",
    ")"
   ]
  },
  {
   "cell_type": "markdown",
   "id": "a4b6e2cb",
   "metadata": {},
   "source": [
    "__Exemplo: Gincana__  \n",
    "\n",
    "* Proporção de mulheres na última gincana foi de 60%  \n",
    "* Número total de equipes 30  \n",
    "* 12 integrantes por equipe  \n",
    "\n",
    "> Quantas equipes serão formadas por 8 mulheres?"
   ]
  },
  {
   "cell_type": "code",
   "execution_count": 11,
   "id": "b89461a9",
   "metadata": {},
   "outputs": [
    {
     "name": "stdout",
     "output_type": "stream",
     "text": [
      "21.3% de 8 moças e 4 rapazes\n",
      "6.3852281856\n"
     ]
    }
   ],
   "source": [
    "p = 0.6 # Prob de sucesso\n",
    "n = 12  # Nº de escolhas\n",
    "k = 8   # Escolha de 8 mulheres\n",
    "\n",
    "\n",
    "probabilidade = binom.pmf(k, n, p)\n",
    "print(f'{probabilidade:.1%} de 8 moças e 4 rapazes')\n",
    "\n",
    "\n",
    "# Média\n",
    "equipes = 30 * probabilidade # μ = n × p\n",
    "print(equipes)    "
   ]
  },
  {
   "cell_type": "markdown",
   "id": "b171df82",
   "metadata": {},
   "source": [
    "Suponha que a probabilidade de um casal ter filhos com olhos azuis seja de 22%. Em 50 famílias, com 3 crianças cada uma, quantas podemos esperar que tenham dois filhos com olhos azuis?"
   ]
  },
  {
   "cell_type": "code",
   "execution_count": 16,
   "id": "c936a8fd",
   "metadata": {},
   "outputs": [
    {
     "name": "stdout",
     "output_type": "stream",
     "text": [
      "Probabilidade: 11.3%\n",
      "5.662799999999996 famílias terão duas crianças com olhos azuis\n"
     ]
    }
   ],
   "source": [
    "prob_olhos_azuis = 0.22  # prob. de sucesso p\n",
    "criancas_por_familia = 3  # # num eventos estudados n        \n",
    "criancas_com_olhos_azuis = 2  # num eventos desejados que tenham sucesso k\n",
    "num_familias = 50        \n",
    "\n",
    "\n",
    "probabilidade = binom.pmf(criancas_com_olhos_azuis, criancas_por_familia, prob_olhos_azuis) # k, n, p\n",
    "\n",
    "print(f'Probabilidade: {probabilidade:.1%}')\n",
    "\n",
    "quantidade = num_familias * probabilidade\n",
    "print(f'{quantidade} famílias terão duas crianças com olhos azuis')\n"
   ]
  },
  {
   "cell_type": "markdown",
   "id": "2c950b5e",
   "metadata": {},
   "source": [
    "Aprendemos:  \n",
    "1. Os conceitos básicos da distribuição de probabilidades binomial\n",
    "2. A identificar e solucionar problemas que envolvam um experimento binomial\n",
    "3. A obter a probabilidade de eventos que envolvam apenas duas possibilidades de resultado"
   ]
  }
 ],
 "metadata": {
  "kernelspec": {
   "display_name": "base",
   "language": "python",
   "name": "python3"
  },
  "language_info": {
   "codemirror_mode": {
    "name": "ipython",
    "version": 3
   },
   "file_extension": ".py",
   "mimetype": "text/x-python",
   "name": "python",
   "nbconvert_exporter": "python",
   "pygments_lexer": "ipython3",
   "version": "3.12.7"
  }
 },
 "nbformat": 4,
 "nbformat_minor": 5
}
