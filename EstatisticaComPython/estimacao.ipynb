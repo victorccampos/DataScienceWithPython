{
 "cells": [
  {
   "cell_type": "markdown",
   "id": "2f4abbec",
   "metadata": {},
   "source": [
    "# <font color=#E6ae1d size=5> Estimação 📊</font>\n",
    "\n",
    "--- \n"
   ]
  },
  {
   "cell_type": "code",
   "execution_count": 1,
   "id": "52ffd9e8",
   "metadata": {},
   "outputs": [],
   "source": [
    "import pandas as pd\n",
    "import numpy as np"
   ]
  },
  {
   "cell_type": "code",
   "execution_count": 2,
   "id": "181ffbb6",
   "metadata": {},
   "outputs": [
    {
     "data": {
      "text/html": [
       "<div>\n",
       "<style scoped>\n",
       "    .dataframe tbody tr th:only-of-type {\n",
       "        vertical-align: middle;\n",
       "    }\n",
       "\n",
       "    .dataframe tbody tr th {\n",
       "        vertical-align: top;\n",
       "    }\n",
       "\n",
       "    .dataframe thead th {\n",
       "        text-align: right;\n",
       "    }\n",
       "</style>\n",
       "<table border=\"1\" class=\"dataframe\">\n",
       "  <thead>\n",
       "    <tr style=\"text-align: right;\">\n",
       "      <th></th>\n",
       "      <th>UF</th>\n",
       "      <th>Sexo</th>\n",
       "      <th>Idade</th>\n",
       "      <th>Cor</th>\n",
       "      <th>Anos de Estudo</th>\n",
       "      <th>Renda</th>\n",
       "      <th>Altura</th>\n",
       "    </tr>\n",
       "  </thead>\n",
       "  <tbody>\n",
       "    <tr>\n",
       "      <th>0</th>\n",
       "      <td>11</td>\n",
       "      <td>0</td>\n",
       "      <td>23</td>\n",
       "      <td>8</td>\n",
       "      <td>12</td>\n",
       "      <td>800</td>\n",
       "      <td>1.603808</td>\n",
       "    </tr>\n",
       "    <tr>\n",
       "      <th>1</th>\n",
       "      <td>11</td>\n",
       "      <td>1</td>\n",
       "      <td>23</td>\n",
       "      <td>2</td>\n",
       "      <td>12</td>\n",
       "      <td>1150</td>\n",
       "      <td>1.739790</td>\n",
       "    </tr>\n",
       "    <tr>\n",
       "      <th>2</th>\n",
       "      <td>11</td>\n",
       "      <td>1</td>\n",
       "      <td>35</td>\n",
       "      <td>8</td>\n",
       "      <td>15</td>\n",
       "      <td>880</td>\n",
       "      <td>1.760444</td>\n",
       "    </tr>\n",
       "    <tr>\n",
       "      <th>3</th>\n",
       "      <td>11</td>\n",
       "      <td>0</td>\n",
       "      <td>46</td>\n",
       "      <td>2</td>\n",
       "      <td>6</td>\n",
       "      <td>3500</td>\n",
       "      <td>1.783158</td>\n",
       "    </tr>\n",
       "    <tr>\n",
       "      <th>4</th>\n",
       "      <td>11</td>\n",
       "      <td>1</td>\n",
       "      <td>47</td>\n",
       "      <td>8</td>\n",
       "      <td>9</td>\n",
       "      <td>150</td>\n",
       "      <td>1.690631</td>\n",
       "    </tr>\n",
       "  </tbody>\n",
       "</table>\n",
       "</div>"
      ],
      "text/plain": [
       "   UF  Sexo  Idade  Cor  Anos de Estudo  Renda    Altura\n",
       "0  11     0     23    8              12    800  1.603808\n",
       "1  11     1     23    2              12   1150  1.739790\n",
       "2  11     1     35    8              15    880  1.760444\n",
       "3  11     0     46    2               6   3500  1.783158\n",
       "4  11     1     47    8               9    150  1.690631"
      ]
     },
     "execution_count": 2,
     "metadata": {},
     "output_type": "execute_result"
    }
   ],
   "source": [
    "dados = pd.read_csv(\"dados.csv\")\n",
    "dados.head()"
   ]
  },
  {
   "cell_type": "code",
   "execution_count": 3,
   "id": "af4fea38",
   "metadata": {},
   "outputs": [],
   "source": [
    "def generate_samples(dataframe: pd.DataFrame, \n",
    "                     num_amostras: int,\n",
    "                     tamanho_amostra: int) -> pd.DataFrame:\n",
    "    \"\"\"\n",
    "    Gera um dataframe com 2000 amostras de tamanho 1500.\n",
    "    Cada coluna representa uma amostra aleatória da coluna 'Idade'.\n",
    "    \"\"\"\n",
    "    # Lista para armazenar as amostras\n",
    "    lista_amostras = []\n",
    "\n",
    "    for _ in range(num_amostras):\n",
    "        amostra = dataframe['Idade'].sample(tamanho_amostra).reset_index(drop=True)\n",
    "        lista_amostras.append(amostra)\n",
    "\n",
    "    # Concatena todas as amostras como colunas\n",
    "    amostras_df = pd.concat(lista_amostras, axis=1)\n",
    "    amostras_df.columns = [f'Amostra_{i+1}' for i in range(num_amostras)]\n",
    "\n",
    "    return amostras_df"
   ]
  },
  {
   "cell_type": "code",
   "execution_count": 4,
   "id": "48aa587e",
   "metadata": {},
   "outputs": [
    {
     "data": {
      "text/html": [
       "<div>\n",
       "<style scoped>\n",
       "    .dataframe tbody tr th:only-of-type {\n",
       "        vertical-align: middle;\n",
       "    }\n",
       "\n",
       "    .dataframe tbody tr th {\n",
       "        vertical-align: top;\n",
       "    }\n",
       "\n",
       "    .dataframe thead th {\n",
       "        text-align: right;\n",
       "    }\n",
       "</style>\n",
       "<table border=\"1\" class=\"dataframe\">\n",
       "  <thead>\n",
       "    <tr style=\"text-align: right;\">\n",
       "      <th></th>\n",
       "      <th>Amostra_1</th>\n",
       "      <th>Amostra_2</th>\n",
       "      <th>Amostra_3</th>\n",
       "      <th>Amostra_4</th>\n",
       "      <th>Amostra_5</th>\n",
       "      <th>Amostra_6</th>\n",
       "      <th>Amostra_7</th>\n",
       "      <th>Amostra_8</th>\n",
       "      <th>Amostra_9</th>\n",
       "      <th>Amostra_10</th>\n",
       "      <th>...</th>\n",
       "      <th>Amostra_1491</th>\n",
       "      <th>Amostra_1492</th>\n",
       "      <th>Amostra_1493</th>\n",
       "      <th>Amostra_1494</th>\n",
       "      <th>Amostra_1495</th>\n",
       "      <th>Amostra_1496</th>\n",
       "      <th>Amostra_1497</th>\n",
       "      <th>Amostra_1498</th>\n",
       "      <th>Amostra_1499</th>\n",
       "      <th>Amostra_1500</th>\n",
       "    </tr>\n",
       "  </thead>\n",
       "  <tbody>\n",
       "    <tr>\n",
       "      <th>0</th>\n",
       "      <td>47</td>\n",
       "      <td>62</td>\n",
       "      <td>34</td>\n",
       "      <td>43</td>\n",
       "      <td>50</td>\n",
       "      <td>44</td>\n",
       "      <td>52</td>\n",
       "      <td>34</td>\n",
       "      <td>50</td>\n",
       "      <td>49</td>\n",
       "      <td>...</td>\n",
       "      <td>67</td>\n",
       "      <td>41</td>\n",
       "      <td>34</td>\n",
       "      <td>42</td>\n",
       "      <td>45</td>\n",
       "      <td>80</td>\n",
       "      <td>47</td>\n",
       "      <td>39</td>\n",
       "      <td>36</td>\n",
       "      <td>29</td>\n",
       "    </tr>\n",
       "    <tr>\n",
       "      <th>1</th>\n",
       "      <td>39</td>\n",
       "      <td>35</td>\n",
       "      <td>32</td>\n",
       "      <td>48</td>\n",
       "      <td>51</td>\n",
       "      <td>47</td>\n",
       "      <td>41</td>\n",
       "      <td>54</td>\n",
       "      <td>35</td>\n",
       "      <td>51</td>\n",
       "      <td>...</td>\n",
       "      <td>64</td>\n",
       "      <td>35</td>\n",
       "      <td>40</td>\n",
       "      <td>41</td>\n",
       "      <td>39</td>\n",
       "      <td>28</td>\n",
       "      <td>22</td>\n",
       "      <td>29</td>\n",
       "      <td>61</td>\n",
       "      <td>30</td>\n",
       "    </tr>\n",
       "    <tr>\n",
       "      <th>2</th>\n",
       "      <td>70</td>\n",
       "      <td>54</td>\n",
       "      <td>51</td>\n",
       "      <td>57</td>\n",
       "      <td>49</td>\n",
       "      <td>44</td>\n",
       "      <td>30</td>\n",
       "      <td>32</td>\n",
       "      <td>60</td>\n",
       "      <td>30</td>\n",
       "      <td>...</td>\n",
       "      <td>45</td>\n",
       "      <td>60</td>\n",
       "      <td>44</td>\n",
       "      <td>54</td>\n",
       "      <td>41</td>\n",
       "      <td>49</td>\n",
       "      <td>67</td>\n",
       "      <td>44</td>\n",
       "      <td>27</td>\n",
       "      <td>58</td>\n",
       "    </tr>\n",
       "    <tr>\n",
       "      <th>3</th>\n",
       "      <td>50</td>\n",
       "      <td>37</td>\n",
       "      <td>60</td>\n",
       "      <td>45</td>\n",
       "      <td>79</td>\n",
       "      <td>45</td>\n",
       "      <td>56</td>\n",
       "      <td>31</td>\n",
       "      <td>69</td>\n",
       "      <td>46</td>\n",
       "      <td>...</td>\n",
       "      <td>31</td>\n",
       "      <td>35</td>\n",
       "      <td>66</td>\n",
       "      <td>59</td>\n",
       "      <td>33</td>\n",
       "      <td>62</td>\n",
       "      <td>82</td>\n",
       "      <td>58</td>\n",
       "      <td>47</td>\n",
       "      <td>49</td>\n",
       "    </tr>\n",
       "    <tr>\n",
       "      <th>4</th>\n",
       "      <td>42</td>\n",
       "      <td>31</td>\n",
       "      <td>55</td>\n",
       "      <td>40</td>\n",
       "      <td>41</td>\n",
       "      <td>63</td>\n",
       "      <td>49</td>\n",
       "      <td>52</td>\n",
       "      <td>49</td>\n",
       "      <td>37</td>\n",
       "      <td>...</td>\n",
       "      <td>53</td>\n",
       "      <td>27</td>\n",
       "      <td>55</td>\n",
       "      <td>27</td>\n",
       "      <td>66</td>\n",
       "      <td>56</td>\n",
       "      <td>59</td>\n",
       "      <td>41</td>\n",
       "      <td>59</td>\n",
       "      <td>22</td>\n",
       "    </tr>\n",
       "    <tr>\n",
       "      <th>...</th>\n",
       "      <td>...</td>\n",
       "      <td>...</td>\n",
       "      <td>...</td>\n",
       "      <td>...</td>\n",
       "      <td>...</td>\n",
       "      <td>...</td>\n",
       "      <td>...</td>\n",
       "      <td>...</td>\n",
       "      <td>...</td>\n",
       "      <td>...</td>\n",
       "      <td>...</td>\n",
       "      <td>...</td>\n",
       "      <td>...</td>\n",
       "      <td>...</td>\n",
       "      <td>...</td>\n",
       "      <td>...</td>\n",
       "      <td>...</td>\n",
       "      <td>...</td>\n",
       "      <td>...</td>\n",
       "      <td>...</td>\n",
       "      <td>...</td>\n",
       "    </tr>\n",
       "    <tr>\n",
       "      <th>1995</th>\n",
       "      <td>54</td>\n",
       "      <td>23</td>\n",
       "      <td>31</td>\n",
       "      <td>30</td>\n",
       "      <td>41</td>\n",
       "      <td>46</td>\n",
       "      <td>34</td>\n",
       "      <td>25</td>\n",
       "      <td>33</td>\n",
       "      <td>51</td>\n",
       "      <td>...</td>\n",
       "      <td>58</td>\n",
       "      <td>36</td>\n",
       "      <td>43</td>\n",
       "      <td>64</td>\n",
       "      <td>53</td>\n",
       "      <td>61</td>\n",
       "      <td>27</td>\n",
       "      <td>46</td>\n",
       "      <td>75</td>\n",
       "      <td>42</td>\n",
       "    </tr>\n",
       "    <tr>\n",
       "      <th>1996</th>\n",
       "      <td>33</td>\n",
       "      <td>57</td>\n",
       "      <td>37</td>\n",
       "      <td>37</td>\n",
       "      <td>48</td>\n",
       "      <td>43</td>\n",
       "      <td>49</td>\n",
       "      <td>49</td>\n",
       "      <td>32</td>\n",
       "      <td>53</td>\n",
       "      <td>...</td>\n",
       "      <td>62</td>\n",
       "      <td>26</td>\n",
       "      <td>54</td>\n",
       "      <td>48</td>\n",
       "      <td>39</td>\n",
       "      <td>25</td>\n",
       "      <td>36</td>\n",
       "      <td>48</td>\n",
       "      <td>31</td>\n",
       "      <td>42</td>\n",
       "    </tr>\n",
       "    <tr>\n",
       "      <th>1997</th>\n",
       "      <td>38</td>\n",
       "      <td>30</td>\n",
       "      <td>32</td>\n",
       "      <td>58</td>\n",
       "      <td>55</td>\n",
       "      <td>38</td>\n",
       "      <td>26</td>\n",
       "      <td>43</td>\n",
       "      <td>32</td>\n",
       "      <td>66</td>\n",
       "      <td>...</td>\n",
       "      <td>34</td>\n",
       "      <td>43</td>\n",
       "      <td>42</td>\n",
       "      <td>41</td>\n",
       "      <td>45</td>\n",
       "      <td>51</td>\n",
       "      <td>73</td>\n",
       "      <td>61</td>\n",
       "      <td>35</td>\n",
       "      <td>60</td>\n",
       "    </tr>\n",
       "    <tr>\n",
       "      <th>1998</th>\n",
       "      <td>33</td>\n",
       "      <td>40</td>\n",
       "      <td>29</td>\n",
       "      <td>60</td>\n",
       "      <td>33</td>\n",
       "      <td>57</td>\n",
       "      <td>37</td>\n",
       "      <td>59</td>\n",
       "      <td>58</td>\n",
       "      <td>60</td>\n",
       "      <td>...</td>\n",
       "      <td>53</td>\n",
       "      <td>38</td>\n",
       "      <td>33</td>\n",
       "      <td>43</td>\n",
       "      <td>39</td>\n",
       "      <td>28</td>\n",
       "      <td>42</td>\n",
       "      <td>42</td>\n",
       "      <td>35</td>\n",
       "      <td>37</td>\n",
       "    </tr>\n",
       "    <tr>\n",
       "      <th>1999</th>\n",
       "      <td>50</td>\n",
       "      <td>47</td>\n",
       "      <td>36</td>\n",
       "      <td>49</td>\n",
       "      <td>72</td>\n",
       "      <td>47</td>\n",
       "      <td>30</td>\n",
       "      <td>63</td>\n",
       "      <td>62</td>\n",
       "      <td>43</td>\n",
       "      <td>...</td>\n",
       "      <td>50</td>\n",
       "      <td>50</td>\n",
       "      <td>51</td>\n",
       "      <td>52</td>\n",
       "      <td>28</td>\n",
       "      <td>55</td>\n",
       "      <td>45</td>\n",
       "      <td>60</td>\n",
       "      <td>52</td>\n",
       "      <td>23</td>\n",
       "    </tr>\n",
       "  </tbody>\n",
       "</table>\n",
       "<p>2000 rows × 1500 columns</p>\n",
       "</div>"
      ],
      "text/plain": [
       "      Amostra_1  Amostra_2  Amostra_3  Amostra_4  Amostra_5  Amostra_6  \\\n",
       "0            47         62         34         43         50         44   \n",
       "1            39         35         32         48         51         47   \n",
       "2            70         54         51         57         49         44   \n",
       "3            50         37         60         45         79         45   \n",
       "4            42         31         55         40         41         63   \n",
       "...         ...        ...        ...        ...        ...        ...   \n",
       "1995         54         23         31         30         41         46   \n",
       "1996         33         57         37         37         48         43   \n",
       "1997         38         30         32         58         55         38   \n",
       "1998         33         40         29         60         33         57   \n",
       "1999         50         47         36         49         72         47   \n",
       "\n",
       "      Amostra_7  Amostra_8  Amostra_9  Amostra_10  ...  Amostra_1491  \\\n",
       "0            52         34         50          49  ...            67   \n",
       "1            41         54         35          51  ...            64   \n",
       "2            30         32         60          30  ...            45   \n",
       "3            56         31         69          46  ...            31   \n",
       "4            49         52         49          37  ...            53   \n",
       "...         ...        ...        ...         ...  ...           ...   \n",
       "1995         34         25         33          51  ...            58   \n",
       "1996         49         49         32          53  ...            62   \n",
       "1997         26         43         32          66  ...            34   \n",
       "1998         37         59         58          60  ...            53   \n",
       "1999         30         63         62          43  ...            50   \n",
       "\n",
       "      Amostra_1492  Amostra_1493  Amostra_1494  Amostra_1495  Amostra_1496  \\\n",
       "0               41            34            42            45            80   \n",
       "1               35            40            41            39            28   \n",
       "2               60            44            54            41            49   \n",
       "3               35            66            59            33            62   \n",
       "4               27            55            27            66            56   \n",
       "...            ...           ...           ...           ...           ...   \n",
       "1995            36            43            64            53            61   \n",
       "1996            26            54            48            39            25   \n",
       "1997            43            42            41            45            51   \n",
       "1998            38            33            43            39            28   \n",
       "1999            50            51            52            28            55   \n",
       "\n",
       "      Amostra_1497  Amostra_1498  Amostra_1499  Amostra_1500  \n",
       "0               47            39            36            29  \n",
       "1               22            29            61            30  \n",
       "2               67            44            27            58  \n",
       "3               82            58            47            49  \n",
       "4               59            41            59            22  \n",
       "...            ...           ...           ...           ...  \n",
       "1995            27            46            75            42  \n",
       "1996            36            48            31            42  \n",
       "1997            73            61            35            60  \n",
       "1998            42            42            35            37  \n",
       "1999            45            60            52            23  \n",
       "\n",
       "[2000 rows x 1500 columns]"
      ]
     },
     "execution_count": 4,
     "metadata": {},
     "output_type": "execute_result"
    }
   ],
   "source": [
    "amostras = generate_samples(dados, num_amostras=1_500, tamanho_amostra=2000)\n",
    "amostras"
   ]
  },
  {
   "cell_type": "code",
   "execution_count": 5,
   "id": "87d9b892",
   "metadata": {},
   "outputs": [
    {
     "data": {
      "text/plain": [
       "<Axes: >"
      ]
     },
     "execution_count": 5,
     "metadata": {},
     "output_type": "execute_result"
    },
    {
     "data": {
      "image/png": "[encoded data removed]",
      "text/plain": [
       "<Figure size 640x480 with 1 Axes>"
      ]
     },
     "metadata": {},
     "output_type": "display_data"
    }
   ],
   "source": [
    "amostras.mean().hist()"
   ]
  },
  {
   "cell_type": "markdown",
   "id": "2af661bd",
   "metadata": {},
   "source": [
    "$$\n",
    "\\sigma_{\\bar{X}} = \\frac{\\sigma}{\\sqrt{n}}\n",
    "$$  \n",
    "\n",
    "> A distribuição das médias amostrais, independentemente da distribuição original, tende a uma normal de média igual a da população e desvio padrão da variável original divido pela raiz quadrada do tamanho da amostra. Resultado assegurado para $N > 30$.\n"
   ]
  },
  {
   "cell_type": "code",
   "execution_count": 6,
   "id": "c22d770b",
   "metadata": {},
   "outputs": [],
   "source": [
    "sigma = amostras.mean().std()\n",
    "\n",
    "sigma_barX = dados['Idade'].std()\n",
    "n = amostras.shape[0]"
   ]
  },
  {
   "cell_type": "code",
   "execution_count": 7,
   "id": "518ea659",
   "metadata": {},
   "outputs": [
    {
     "data": {
      "text/plain": [
       "0.2790743302740527"
      ]
     },
     "execution_count": 7,
     "metadata": {},
     "output_type": "execute_result"
    }
   ],
   "source": [
    "sigma_barX / np.sqrt(n)"
   ]
  },
  {
   "cell_type": "code",
   "execution_count": 8,
   "id": "d3b79d3a",
   "metadata": {},
   "outputs": [
    {
     "data": {
      "text/plain": [
       "0.2726761672680976"
      ]
     },
     "execution_count": 8,
     "metadata": {},
     "output_type": "execute_result"
    }
   ],
   "source": [
    "sigma"
   ]
  },
  {
   "cell_type": "markdown",
   "id": "d1f6b2ca",
   "metadata": {},
   "source": [
    "<h3> Níveis de confiança e significância </h3>"
   ]
  },
  {
   "attachments": {
    "image.png": {
     "image/png": "[encoded data removed]"
    }
   },
   "cell_type": "markdown",
   "id": "b279ffc5",
   "metadata": {},
   "source": [
    "![image.png](attachment:image.png)"
   ]
  },
  {
   "cell_type": "markdown",
   "id": "ebe8fb1d",
   "metadata": {},
   "source": [
    "$$\n",
    "\\mu = \\bar{x} \\pm z \\frac{\\sigma}{\\sqrt{n}} = \\bar{x} \\pm e\n",
    "$$"
   ]
  },
  {
   "cell_type": "markdown",
   "id": "43a42f03",
   "metadata": {},
   "source": [
    "\n",
    "\n",
    "\\begin{array}{|c|c|c|c|}\n",
    "\\hline\n",
    "\\text{Nível de confiança } (1-\\alpha) & \\alpha & \\alpha/2 & z_{\\alpha/2} \\\\\n",
    "\\hline\n",
    "90\\% & 0.10 & 0.05 & 1.645 \\\\\n",
    "95\\% & 0.05 & 0.025 & 1.960 \\\\\n",
    "99\\% & 0.01 & 0.005 & 2.576 \\\\\n",
    "\\hline\n",
    "\\end{array}\n",
    "\n",
    "\n"
   ]
  },
  {
   "cell_type": "markdown",
   "id": "869420ce",
   "metadata": {},
   "source": [
    "Para estimar o valor médio gasto por cada cliente de uma grande rede de fast-food, foi selecionada uma amostra de 50 clientes.\n",
    "\n",
    "Assumindo que o valor do desvio padrão da população seja de R$ 6,00 e que esta população se distribui normalmente, obtenha a margem de erro desta estimativa para um nível de confiança de 95%"
   ]
  },
  {
   "cell_type": "code",
   "execution_count": 9,
   "id": "597803f6",
   "metadata": {},
   "outputs": [],
   "source": [
    "from scipy.stats import norm"
   ]
  },
  {
   "cell_type": "code",
   "execution_count": 15,
   "id": "840996b7",
   "metadata": {},
   "outputs": [
    {
     "name": "stdout",
     "output_type": "stream",
     "text": [
      "valor de z = 1.959963984540054\n",
      "erro = 1.6630845892196133\n"
     ]
    }
   ],
   "source": [
    "n = 50           # clientes\n",
    "stdev_pop = 6    # desvio padrão da população\n",
    "conf = 0.95      # nível de confiança \n",
    "alpha = 1 - conf # nível de significância\n",
    "\n",
    "z = norm.ppf(q=(1-alpha/2))\n",
    "print(f'valor de {z = }')\n",
    "\n",
    "erro = z * (stdev_pop/np.sqrt(n))\n",
    "print(f'{erro = }')"
   ]
  },
  {
   "cell_type": "markdown",
   "id": "d4c6a98e",
   "metadata": {},
   "source": [
    "Uma amostra aleatória simples de 1976 itens de uma população normalmente distribuída, com desvio padrão populacional igual a 11, resultou em uma média amostral de 28.\n",
    "\n",
    "Qual o intervalo de confiança de 90% para a média populacional?"
   ]
  },
  {
   "cell_type": "code",
   "execution_count": 25,
   "id": "9f0bdb4d",
   "metadata": {},
   "outputs": [
    {
     "name": "stdout",
     "output_type": "stream",
     "text": [
      "27.682871480163502 28.317128519836498\n"
     ]
    }
   ],
   "source": [
    "# Na mão\n",
    "n = 1976 \n",
    "stdev_pop = 11\n",
    "media_amostral = 28\n",
    "z = norm.ppf(0.9)\n",
    "\n",
    "erro = z * (stdev_pop/np.sqrt(n))\n",
    "intevalo_de_confianca_sup = media_amostral + erro \n",
    "intevalo_de_confianca_inf = media_amostral - erro\n",
    "\n",
    "print(f'{intevalo_de_confianca_inf:} {intevalo_de_confianca_sup}')"
   ]
  },
  {
   "cell_type": "code",
   "execution_count": 26,
   "id": "6fe6b8ea",
   "metadata": {},
   "outputs": [
    {
     "data": {
      "text/plain": [
       "(27.592969951356466, 28.407030048643534)"
      ]
     },
     "execution_count": 26,
     "metadata": {},
     "output_type": "execute_result"
    }
   ],
   "source": [
    "# scipy\n",
    "n = 1976 \n",
    "stdev_pop = 11\n",
    "media_amostral = 28\n",
    "\n",
    "norm.interval(\n",
    "    confidence=0.9,\n",
    "    loc = media_amostral,\n",
    "    scale = stdev_pop/np.sqrt(n)\n",
    ")"
   ]
  },
  {
   "cell_type": "markdown",
   "id": "fcd56f0f",
   "metadata": {},
   "source": [
    "Nesta aula, aprendemos:\n",
    "\n",
    "1. A conceituação de parâmetros e de estimativa\n",
    "2. O teorema do limite central\n",
    "3. Níveis de confiança e de significância\n",
    "4. A obter a margem de erro de um experimento\n",
    "5. A obter intervalos de confiança para uma estimativa pontual (estimação intervalar)"
   ]
  }
 ],
 "metadata": {
  "kernelspec": {
   "display_name": "base",
   "language": "python",
   "name": "python3"
  },
  "language_info": {
   "codemirror_mode": {
    "name": "ipython",
    "version": 3
   },
   "file_extension": ".py",
   "mimetype": "text/x-python",
   "name": "python",
   "nbconvert_exporter": "python",
   "pygments_lexer": "ipython3",
   "version": "3.12.7"
  }
 },
 "nbformat": 4,
 "nbformat_minor": 5
}
