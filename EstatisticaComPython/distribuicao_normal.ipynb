{
 "cells": [
  {
   "cell_type": "code",
   "execution_count": 1,
   "id": "0fb966a6",
   "metadata": {},
   "outputs": [],
   "source": [
    "from scipy.stats import norm"
   ]
  },
  {
   "cell_type": "markdown",
   "id": "05449b49",
   "metadata": {},
   "source": [
    " __Problema__: Altura de pessoas que segue aproximadamente uma distribuição normal com média de 1,70 e desvio padrão de 0,1. Com estas informações obter as probabilidades de:\n",
    "\n",
    " __A.__ Altura $\\le$ 1.80m  \n",
    " __B.__ Altura 1.60m $\\le$ h $\\le$ 1.80m  \n",
    " __C.__ Altura $>$ 1.80m"
   ]
  },
  {
   "cell_type": "code",
   "execution_count": 2,
   "id": "fdd53b72",
   "metadata": {},
   "outputs": [
    {
     "name": "stdout",
     "output_type": "stream",
     "text": [
      "Z=1.0000000000000009\n",
      "Probabilidade = 84.1%\n"
     ]
    }
   ],
   "source": [
    "# Caso A.\n",
    "mu: float = 1.70\n",
    "sigma: float = 0.1\n",
    "\n",
    "X: float = 1.80\n",
    "Z = (X - mu) / sigma\n",
    "print(f'{Z=}')\n",
    "\n",
    "probabilidade = norm.cdf(Z) # cumulative distribution function\n",
    "print(f'Probabilidade = {probabilidade:.1%}')"
   ]
  },
  {
   "cell_type": "markdown",
   "id": "1f4c30a9",
   "metadata": {},
   "source": [
    "A aplicação de uma prova de estatística em um concurso apresentou um conjunto de notas normalmente distribuídas. Verificou-se que o conjunto de notas tinha média 70 e desvio padrão de 5 pontos.\n",
    "\n",
    "Qual a probabilidade de um aluno, selecionado ao acaso, ter nota menor que 85?"
   ]
  },
  {
   "cell_type": "code",
   "execution_count": 3,
   "id": "35ee75ef",
   "metadata": {},
   "outputs": [
    {
     "name": "stdout",
     "output_type": "stream",
     "text": [
      "Z=3.0\n",
      "Probabilidade = 99.87%\n"
     ]
    }
   ],
   "source": [
    "mu = 70\n",
    "sigma = 5 \n",
    "X = 85\n",
    "Z = (X - mu) / sigma\n",
    "print(f'{Z=}')\n",
    "\n",
    "probabilidade = norm.cdf(Z) # cumulative distribution function\n",
    "print(f'Probabilidade = {probabilidade:.2%}')"
   ]
  },
  {
   "cell_type": "code",
   "execution_count": 4,
   "id": "224a7b03",
   "metadata": {},
   "outputs": [],
   "source": [
    "def get_Z(X, mu, sigma):\n",
    "    return (X - mu) / sigma"
   ]
  },
  {
   "cell_type": "code",
   "execution_count": 5,
   "id": "2ccfc95c",
   "metadata": {},
   "outputs": [
    {
     "name": "stdout",
     "output_type": "stream",
     "text": [
      "prob=0.6826894921370857\n"
     ]
    }
   ],
   "source": [
    "# Caso B.\n",
    "\n",
    "X_sup, X_inf = 1.8, 1.6\n",
    "Z_sup, Z_inf = get_Z(X=X_sup, mu=1.70, sigma=0.1), get_Z(X=X_inf, mu=1.70, sigma=0.1) \n",
    "prob = norm.cdf(Z_sup) - norm.cdf(Z_inf)\n",
    "print(f'{prob=}')\n"
   ]
  },
  {
   "cell_type": "markdown",
   "id": "0cd14ffa",
   "metadata": {},
   "source": [
    "\n",
    " O faturamento diário de um motorista de aplicativo segue uma distribuição aproximadamente normal,\n",
    "  com média R$ 300,00 e desvio padrão igual a R$ 50,00. Obtenha as probabilidades de que, em um dia aleatório, o motorista ganhe:\n",
    " 1) Entre R$ 250,00 e R$ 350,00\n",
    " 2) Entre R$ 400,00 e R$ 500,00\n"
   ]
  },
  {
   "cell_type": "code",
   "execution_count": 6,
   "id": "526441a9",
   "metadata": {},
   "outputs": [
    {
     "name": "stdout",
     "output_type": "stream",
     "text": [
      "Probabilidade 1: R$250 e R$350: 68.27%\n",
      "Probabilidade 2: R$400 e R$500: 2.27%\n"
     ]
    }
   ],
   "source": [
    "mu = 300\n",
    "sigma = 50\n",
    "\n",
    "X_inf, X_sup = 250, 350\n",
    "Z_inf = get_Z(X_inf, mu, sigma)\n",
    "Z_sup = get_Z(X_sup, mu, sigma)\n",
    "\n",
    "prob = norm.cdf(Z_sup) - norm.cdf(Z_inf)\n",
    "print(f\"Probabilidade 1: R$250 e R$350: {prob:.2%}\")\n",
    "\n",
    "X_inf, X_sup = 400, 500\n",
    "Z_inf = get_Z(X_inf, mu, sigma)\n",
    "Z_sup = get_Z(X_sup, mu, sigma)\n",
    "\n",
    "prob = norm.cdf(Z_sup) - norm.cdf(Z_inf)\n",
    "print(f\"Probabilidade 2: R$400 e R$500: {prob:.2%}\")"
   ]
  },
  {
   "cell_type": "code",
   "execution_count": 7,
   "id": "6592ed17",
   "metadata": {},
   "outputs": [
    {
     "name": "stdout",
     "output_type": "stream",
     "text": [
      "Probabilidade: 2.28%\n",
      "Probabilidade: 2.28%\n"
     ]
    }
   ],
   "source": [
    "# Caso C: > 1.90m\n",
    "Z = get_Z(X=1.9, mu=1.7, sigma=0.1) # Z = 1.999999 (1.90 + 0.09) {Z_Table => 0.97} => prob = 1 - 0.977\n",
    "Z\n",
    "\n",
    "prob = 1 - norm.cdf(Z) # intervalo \"maior que\"\n",
    "\n",
    "# Outra notação\n",
    "prob2 = norm.cdf(-Z)\n",
    "\n",
    "print(f\"Probabilidade: {prob:.2%}\")\n",
    "print(f\"Probabilidade: {prob2:.2%}\")"
   ]
  },
  {
   "cell_type": "markdown",
   "id": "8b8d1451",
   "metadata": {},
   "source": [
    "O Inmetro verificou que as lâmpadas incandescentes da fabricante XPTO apresentam uma vida útil normalmente distribuída, com média igual a 720 dias e desvio padrão igual a 30 dias. Calcule a probabilidade de uma lâmpada, escolhida ao acaso, durar:\n",
    "\n",
    "1) Entre 650 e 750 dias\n",
    "\n",
    "2) Mais que 800 dias\n",
    "\n",
    "3) Menos que 700 dias"
   ]
  },
  {
   "cell_type": "code",
   "execution_count": 8,
   "id": "1b218c27",
   "metadata": {},
   "outputs": [
    {
     "name": "stdout",
     "output_type": "stream",
     "text": [
      "Probabilidade 1 => Entre 650 e 750 dias: 83.15%\n",
      "Probabilidade 2 => Mais que 800 dias: 2.28%\n",
      "Probabilidade 3 => Menos que 700 dias: 25.25%\n"
     ]
    }
   ],
   "source": [
    "mu = 720    # dias\n",
    "sigma = 30  # dias \n",
    "\n",
    "# 1: 650 < X < 650\n",
    "X_inf, X_sup = 650, 750\n",
    "Z_inf = get_Z(X_inf, mu, sigma)\n",
    "Z_sup = get_Z(X_sup, mu, sigma)\n",
    "\n",
    "prob = norm.cdf(Z_sup) - norm.cdf(Z_inf)\n",
    "print(f\"Probabilidade 1 => Entre 650 e 750 dias: {prob:.2%}\")\n",
    "\n",
    "# Mais que 800 dias. (survival function)\n",
    "X2 = 800\n",
    "Z2 = get_Z(X2, mu, sigma)\n",
    "prob = norm.sf(Z)\n",
    "print(f\"Probabilidade 2 => Mais que 800 dias: {prob:.2%}\")\n",
    "\n",
    "# Menos que 700 dias\n",
    "X3 = 700\n",
    "Z3 = get_Z(X3, mu, sigma)\n",
    "prob = norm.cdf(Z3)\n",
    "print(f\"Probabilidade 3 => Menos que 700 dias: {prob:.2%}\")\n",
    "\n"
   ]
  },
  {
   "cell_type": "markdown",
   "id": "8c815635",
   "metadata": {},
   "source": [
    "Utilizando a tabela padronizada, ou o ferramental disponibilizado pelo Python, encontre a área sob a curva normal para os valores de Z abaixo:\n",
    "\n",
    "1) Z < 1,96\n",
    "\n",
    "2) Z > 2,15\n",
    "\n",
    "3) Z < -0,78\n",
    "\n",
    "4) Z > 0,59\n"
   ]
  },
  {
   "cell_type": "code",
   "execution_count": 10,
   "id": "bc4a04a5",
   "metadata": {},
   "outputs": [
    {
     "name": "stdout",
     "output_type": "stream",
     "text": [
      "Valor de Z: 1.96 => probabilidade = 0.9750\n",
      "Valor de Z: 2.15 => probabilidade = 0.0158\n",
      "Valor de Z: -0.78 => probabilidade = 0.2177\n",
      "Valor de Z: 0.59 => probabilidade = 0.2776\n"
     ]
    }
   ],
   "source": [
    "Z_values = [1.96, 2.15, -0.78, 0.59]\n",
    "\n",
    "# \"maior que\" em i = {1, 3}\n",
    "for idx, z in enumerate(Z_values):\n",
    "    if idx in [1,3]:\n",
    "        area = norm.sf(z)\n",
    "    else:\n",
    "        area = norm.cdf(z)\n",
    "    print(f'Valor de Z: {z} => probabilidade = {area:.4f}')"
   ]
  }
 ],
 "metadata": {
  "kernelspec": {
   "display_name": "base",
   "language": "python",
   "name": "python3"
  },
  "language_info": {
   "codemirror_mode": {
    "name": "ipython",
    "version": 3
   },
   "file_extension": ".py",
   "mimetype": "text/x-python",
   "name": "python",
   "nbconvert_exporter": "python",
   "pygments_lexer": "ipython3",
   "version": "3.12.7"
  }
 },
 "nbformat": 4,
 "nbformat_minor": 5
}
