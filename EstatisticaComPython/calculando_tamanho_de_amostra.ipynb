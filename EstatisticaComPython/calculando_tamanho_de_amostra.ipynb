{
 "cells": [
  {
   "cell_type": "markdown",
   "id": "d9d1956a",
   "metadata": {},
   "source": [
    "# <font color=#E6ae1d size=6> Calculando o Tamanho da Amostra 📊</font>\n",
    "\n",
    "--- \n"
   ]
  },
  {
   "cell_type": "markdown",
   "id": "43d8935e",
   "metadata": {},
   "source": [
    "Estamos estudando o rendimento mensal dos chefes de domicílio no Brasil. Nosso supervisor determinou que o __erro máximo em relação a média seja de R$100,00__. Sabemos que o `desvio padrão populacional` deste grupo de trabalhadores é de `R$3.323,29`. Para um __nível de confiança de 95%__, qual deve ser o tamanho da amostra?"
   ]
  },
  {
   "cell_type": "code",
   "execution_count": 2,
   "id": "1e158afb",
   "metadata": {},
   "outputs": [],
   "source": [
    "from scipy.stats import norm"
   ]
  },
  {
   "cell_type": "markdown",
   "id": "7adcd027",
   "metadata": {},
   "source": [
    "Variáveis quantitativas e variáveis infinitas"
   ]
  },
  {
   "cell_type": "markdown",
   "id": "e21af7bc",
   "metadata": {},
   "source": [
    "$$\n",
    "n = \\left(z \\frac{\\sigma}{e} \\right)^2\n",
    "$$"
   ]
  },
  {
   "cell_type": "code",
   "execution_count": 16,
   "id": "1aa9eca5",
   "metadata": {},
   "outputs": [
    {
     "name": "stdout",
     "output_type": "stream",
     "text": [
      "z = 1.959963984540054\n",
      "Tamanho da amostra 4243.0\n",
      "\n",
      "\tSão necessários 4243.0 para que a amostra seja representativa da população.\n"
     ]
    }
   ],
   "source": [
    "# Problema rendimento medio\n",
    "stdev_pop = 3323.29\n",
    "conf = 0.95\n",
    "alpha = 1 - conf\n",
    "z = norm.ppf(q=(1-alpha/2))\n",
    "\n",
    "erro = 100\n",
    "print(f'{z = }')\n",
    "\n",
    "n = (z * stdev_pop/erro)**2\n",
    "print(f'Tamanho da amostra {n.round()}\\n')\n",
    "\n",
    "print(f'\\tSão necessários {n.round()} para que a amostra seja representativa da população.')"
   ]
  },
  {
   "cell_type": "markdown",
   "id": "d9d3fa6c",
   "metadata": {},
   "source": [
    "O valor do gasto médio dos clientes de uma loja de conveniência é de R$ 45,50. Assumindo que o desvio padrão dos gastos é igual a R$ 15,00, qual deve ser o tamanho da amostra para estimarmos a média populacional com um nível de significância de 10%?\n",
    "\n",
    "Considere que o erro máximo aceitável seja de 10%."
   ]
  },
  {
   "cell_type": "code",
   "execution_count": 37,
   "id": "6f317fa1",
   "metadata": {},
   "outputs": [
    {
     "data": {
      "text/plain": [
       "29.0"
      ]
     },
     "execution_count": 37,
     "metadata": {},
     "output_type": "execute_result"
    }
   ],
   "source": [
    "xbar = 45.5\n",
    "stdev_pop = 15\n",
    "significancia = 0.10\n",
    "confianca = 1 - significancia\n",
    "\n",
    "z = norm.ppf(0.5 + (confianca/2))\n",
    "\n",
    "\n",
    "erro_percentual = 0.1\n",
    "erro = xbar*erro_percentual\n",
    "\n",
    "n = (z * (stdev_pop/erro)) ** 2\n",
    "n.round()"
   ]
  },
  {
   "cell_type": "markdown",
   "id": "c4cb0378",
   "metadata": {},
   "source": [
    "__População Finita__"
   ]
  },
  {
   "cell_type": "markdown",
   "id": "0be7af9d",
   "metadata": {},
   "source": [
    "__Problema 1__:\n",
    "\n",
    "Em um lote de 10.000 latas de refrigerante, foi realizada uma amostra aleatória simples de 100 latas e foi obtido o desvio padrão amostral do conteúdo das latas de 12 ml. O fabricante estipula um erro máximo sobre a média populacional de apenas 5 ml. Para garantir um nível de confiança de 95% qual o tamanho de amostra deve ser selecionado para este estudo?"
   ]
  },
  {
   "cell_type": "markdown",
   "id": "689dcdb3",
   "metadata": {},
   "source": [
    "__Problema 2__:  \n",
    "\n",
    "Um fabricante de farinha verificou que, em uma amostra aleatória formada por 200 sacos de 25 kg de um lote formado por 2.000 sacos, apresentou um desvio padrão amostral do peso igual a 480 g.\n",
    "\n",
    "Considerando um erro máximo associado à média populacional igual a 0,3 kg e um nível de confiança igual a 95%, qual tamanho de amostra deveria ser selecionado para obtermos uma estimativa confiável do parâmetro populacional?"
   ]
  },
  {
   "cell_type": "code",
   "execution_count": 54,
   "id": "9a15116c",
   "metadata": {},
   "outputs": [],
   "source": [
    "def get_n(*,z,stddev, N, erro):\n",
    "    numerador = z**2 * stddev**2 * N\n",
    "    denominador = z**2 * stddev**2 + erro**2 * (N-1)\n",
    "    n = numerador / denominador\n",
    "    return n"
   ]
  },
  {
   "cell_type": "code",
   "execution_count": null,
   "id": "f037789a",
   "metadata": {},
   "outputs": [
    {
     "name": "stdout",
     "output_type": "stream",
     "text": [
      "O tamanho da amostra deverá ser n = 22.0\n",
      "A amostra de 100 é bem maior que as 22 latas necessárias!!!!\n"
     ]
    }
   ],
   "source": [
    "# Problema 1\n",
    "N: int = 10_000 \n",
    "z = norm.ppf(0.5 + (0.95/2))\n",
    "\n",
    "stddev_amostral = 12 # ml\n",
    "erro = 5 # ml\n",
    "\n",
    "n = get_n(z=z,stddev=stddev_amostral,N=N,erro=erro)\n",
    "n = n.round()\n",
    "print(f\"O tamanho da amostra deverá ser {n = }\")\n",
    "print(f\"A amostra de 100 é bem maior que as 22 latas necessárias!!!!\")"
   ]
  },
  {
   "cell_type": "code",
   "execution_count": 64,
   "id": "4fe10d45",
   "metadata": {},
   "outputs": [
    {
     "name": "stdout",
     "output_type": "stream",
     "text": [
      "Seriam necessários 10 sacos de farinha, 190 a mais que a amostra selecionada.\n"
     ]
    }
   ],
   "source": [
    "# Problema 2\n",
    "z = norm.ppf(0.5 + (0.95/2))\n",
    "\n",
    "N = 2_000\n",
    "n_temp = 200 \n",
    "stddev_amostral = 0.480 # kg\n",
    "erro = 0.3\n",
    "\n",
    "n = get_n(z=z, stddev=stddev_amostral, N=N, erro=erro)\n",
    "print(f'Seriam necessários {round(n)} sacos de farinha, {n_temp - round(n)} a mais que a amostra selecionada.')"
   ]
  },
  {
   "cell_type": "markdown",
   "id": "7536d4ed",
   "metadata": {},
   "source": [
    "Nesta aula, aprendemos:\n",
    "\n",
    "1. A determinação do tamanho de uma amostra, para garantir que esta seja representativa da população  \n",
    "2. O cálculo de tamanho de amostra para variáveis quantitativas finitas e infinitas"
   ]
  }
 ],
 "metadata": {
  "kernelspec": {
   "display_name": "base",
   "language": "python",
   "name": "python3"
  },
  "language_info": {
   "codemirror_mode": {
    "name": "ipython",
    "version": 3
   },
   "file_extension": ".py",
   "mimetype": "text/x-python",
   "name": "python",
   "nbconvert_exporter": "python",
   "pygments_lexer": "ipython3",
   "version": "3.12.7"
  }
 },
 "nbformat": 4,
 "nbformat_minor": 5
}
