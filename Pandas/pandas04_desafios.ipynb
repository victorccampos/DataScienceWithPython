{
 "cells": [
  {
   "cell_type": "markdown",
   "id": "da133060",
   "metadata": {},
   "source": [
    "<h1 style=\"text-align: center\", ;\"> <font color=#FFFFF size=5> Tratamento e Manipulação de Dados - Desafios </font> </h1>"
   ]
  },
  {
   "cell_type": "code",
   "execution_count": 1,
   "id": "e5467458",
   "metadata": {},
   "outputs": [],
   "source": [
    "import pandas as pd\n",
    "import numpy as np"
   ]
  },
  {
   "cell_type": "markdown",
   "id": "6e35bb0f",
   "metadata": {},
   "source": [
    "__Projeto 1: Vendas Online__"
   ]
  },
  {
   "cell_type": "code",
   "execution_count": null,
   "id": "d2845c1e",
   "metadata": {},
   "outputs": [
    {
     "data": {
      "text/html": [
       "<div>\n",
       "<style scoped>\n",
       "    .dataframe tbody tr th:only-of-type {\n",
       "        vertical-align: middle;\n",
       "    }\n",
       "\n",
       "    .dataframe tbody tr th {\n",
       "        vertical-align: top;\n",
       "    }\n",
       "\n",
       "    .dataframe thead th {\n",
       "        text-align: right;\n",
       "    }\n",
       "</style>\n",
       "<table border=\"1\" class=\"dataframe\">\n",
       "  <thead>\n",
       "    <tr style=\"text-align: right;\">\n",
       "      <th></th>\n",
       "      <th>dados_vendas</th>\n",
       "    </tr>\n",
       "  </thead>\n",
       "  <tbody>\n",
       "    <tr>\n",
       "      <th>0</th>\n",
       "      <td>{'Data de venda': '06/06/2022', 'Cliente': ['@...</td>\n",
       "    </tr>\n",
       "    <tr>\n",
       "      <th>1</th>\n",
       "      <td>{'Data de venda': '07/06/2022', 'Cliente': ['I...</td>\n",
       "    </tr>\n",
       "    <tr>\n",
       "      <th>2</th>\n",
       "      <td>{'Data de venda': '08/06/2022', 'Cliente': ['I...</td>\n",
       "    </tr>\n",
       "    <tr>\n",
       "      <th>3</th>\n",
       "      <td>{'Data de venda': '09/06/2022', 'Cliente': ['J...</td>\n",
       "    </tr>\n",
       "    <tr>\n",
       "      <th>4</th>\n",
       "      <td>{'Data de venda': '10/06/2022', 'Cliente': ['M...</td>\n",
       "    </tr>\n",
       "  </tbody>\n",
       "</table>\n",
       "</div>"
      ],
      "text/plain": [
       "                                        dados_vendas\n",
       "0  {'Data de venda': '06/06/2022', 'Cliente': ['@...\n",
       "1  {'Data de venda': '07/06/2022', 'Cliente': ['I...\n",
       "2  {'Data de venda': '08/06/2022', 'Cliente': ['I...\n",
       "3  {'Data de venda': '09/06/2022', 'Cliente': ['J...\n",
       "4  {'Data de venda': '10/06/2022', 'Cliente': ['M..."
      ]
     },
     "execution_count": 2,
     "metadata": {},
     "output_type": "execute_result"
    }
   ],
   "source": [
    "pd.read_json('./data/dados_vendas_clientes.json')"
   ]
  },
  {
   "cell_type": "code",
   "execution_count": null,
   "id": "0b6534fc",
   "metadata": {},
   "outputs": [
    {
     "data": {
      "text/html": [
       "<div>\n",
       "<style scoped>\n",
       "    .dataframe tbody tr th:only-of-type {\n",
       "        vertical-align: middle;\n",
       "    }\n",
       "\n",
       "    .dataframe tbody tr th {\n",
       "        vertical-align: top;\n",
       "    }\n",
       "\n",
       "    .dataframe thead th {\n",
       "        text-align: right;\n",
       "    }\n",
       "</style>\n",
       "<table border=\"1\" class=\"dataframe\">\n",
       "  <thead>\n",
       "    <tr style=\"text-align: right;\">\n",
       "      <th></th>\n",
       "      <th>Data de venda</th>\n",
       "      <th>Cliente</th>\n",
       "      <th>Valor da compra</th>\n",
       "    </tr>\n",
       "  </thead>\n",
       "  <tbody>\n",
       "    <tr>\n",
       "      <th>0</th>\n",
       "      <td>06/06/2022</td>\n",
       "      <td>[@ANA _LUCIA 321, DieGO ARMANDIU 210, DieGO AR...</td>\n",
       "      <td>[R$ 836,5, R$ 573,33, R$ 392,8, R$ 512,34]</td>\n",
       "    </tr>\n",
       "    <tr>\n",
       "      <th>1</th>\n",
       "      <td>07/06/2022</td>\n",
       "      <td>[Isabely JOanes 738, Isabely JOanes 738, Isabe...</td>\n",
       "      <td>[R$ 825,31, R$ 168,07, R$ 339,18, R$ 314,69]</td>\n",
       "    </tr>\n",
       "    <tr>\n",
       "      <th>2</th>\n",
       "      <td>08/06/2022</td>\n",
       "      <td>[Isabely JOanes 738, JOãO Gabriel 671, Julya m...</td>\n",
       "      <td>[R$ 682,05, R$ 386,34, R$ 622,65, R$ 630,79]</td>\n",
       "    </tr>\n",
       "    <tr>\n",
       "      <th>3</th>\n",
       "      <td>09/06/2022</td>\n",
       "      <td>[Julya meireles 914, MaRIA Julia 444, MaRIA Ju...</td>\n",
       "      <td>[R$ 390,3, R$ 759,16, R$ 334,47, R$ 678,78]</td>\n",
       "    </tr>\n",
       "    <tr>\n",
       "      <th>4</th>\n",
       "      <td>10/06/2022</td>\n",
       "      <td>[MaRIA Julia 444, PEDRO PASCO 812, Paulo castr...</td>\n",
       "      <td>[R$ 314,24, R$ 311,15, R$ 899,16, R$ 885,24]</td>\n",
       "    </tr>\n",
       "  </tbody>\n",
       "</table>\n",
       "</div>"
      ],
      "text/plain": [
       "  Data de venda                                            Cliente  \\\n",
       "0    06/06/2022  [@ANA _LUCIA 321, DieGO ARMANDIU 210, DieGO AR...   \n",
       "1    07/06/2022  [Isabely JOanes 738, Isabely JOanes 738, Isabe...   \n",
       "2    08/06/2022  [Isabely JOanes 738, JOãO Gabriel 671, Julya m...   \n",
       "3    09/06/2022  [Julya meireles 914, MaRIA Julia 444, MaRIA Ju...   \n",
       "4    10/06/2022  [MaRIA Julia 444, PEDRO PASCO 812, Paulo castr...   \n",
       "\n",
       "                                Valor da compra  \n",
       "0    [R$ 836,5, R$ 573,33, R$ 392,8, R$ 512,34]  \n",
       "1  [R$ 825,31, R$ 168,07, R$ 339,18, R$ 314,69]  \n",
       "2  [R$ 682,05, R$ 386,34, R$ 622,65, R$ 630,79]  \n",
       "3   [R$ 390,3, R$ 759,16, R$ 334,47, R$ 678,78]  \n",
       "4  [R$ 314,24, R$ 311,15, R$ 899,16, R$ 885,24]  "
      ]
     },
     "execution_count": 4,
     "metadata": {},
     "output_type": "execute_result"
    }
   ],
   "source": [
    "dados_vendas = pd.read_json('./data/dados_vendas_clientes.json')\n",
    "dados_vendas = pd.json_normalize(dados_vendas['dados_vendas'])\n",
    "dados_vendas"
   ]
  },
  {
   "cell_type": "markdown",
   "id": "77642a79",
   "metadata": {},
   "source": [
    "__Projeto 2: Locação Imovéis__"
   ]
  },
  {
   "cell_type": "code",
   "execution_count": 7,
   "id": "820beae3",
   "metadata": {},
   "outputs": [],
   "source": [
    "dados_imoveis = pd.read_json('./data/dados_locacao_imoveis.json')"
   ]
  },
  {
   "cell_type": "code",
   "execution_count": 9,
   "id": "8d1a81cf",
   "metadata": {},
   "outputs": [
    {
     "data": {
      "text/html": [
       "<div>\n",
       "<style scoped>\n",
       "    .dataframe tbody tr th:only-of-type {\n",
       "        vertical-align: middle;\n",
       "    }\n",
       "\n",
       "    .dataframe tbody tr th {\n",
       "        vertical-align: top;\n",
       "    }\n",
       "\n",
       "    .dataframe thead th {\n",
       "        text-align: right;\n",
       "    }\n",
       "</style>\n",
       "<table border=\"1\" class=\"dataframe\">\n",
       "  <thead>\n",
       "    <tr style=\"text-align: right;\">\n",
       "      <th></th>\n",
       "      <th>dados_locacao</th>\n",
       "    </tr>\n",
       "  </thead>\n",
       "  <tbody>\n",
       "    <tr>\n",
       "      <th>0</th>\n",
       "      <td>{'apartamento': 'A101 (blocoAP)', 'datas_combi...</td>\n",
       "    </tr>\n",
       "    <tr>\n",
       "      <th>1</th>\n",
       "      <td>{'apartamento': 'A102 (blocoAP)', 'datas_combi...</td>\n",
       "    </tr>\n",
       "    <tr>\n",
       "      <th>2</th>\n",
       "      <td>{'apartamento': 'B201 (blocoAP)', 'datas_combi...</td>\n",
       "    </tr>\n",
       "    <tr>\n",
       "      <th>3</th>\n",
       "      <td>{'apartamento': 'B202 (blocoAP)', 'datas_combi...</td>\n",
       "    </tr>\n",
       "    <tr>\n",
       "      <th>4</th>\n",
       "      <td>{'apartamento': 'C301 (blocoAP)', 'datas_combi...</td>\n",
       "    </tr>\n",
       "    <tr>\n",
       "      <th>5</th>\n",
       "      <td>{'apartamento': 'C302 (blocoAP)', 'datas_combi...</td>\n",
       "    </tr>\n",
       "    <tr>\n",
       "      <th>6</th>\n",
       "      <td>{'apartamento': 'D401 (blocoAP)', 'datas_combi...</td>\n",
       "    </tr>\n",
       "    <tr>\n",
       "      <th>7</th>\n",
       "      <td>{'apartamento': 'D402 (blocoAP)', 'datas_combi...</td>\n",
       "    </tr>\n",
       "    <tr>\n",
       "      <th>8</th>\n",
       "      <td>{'apartamento': 'E501 (blocoAP)', 'datas_combi...</td>\n",
       "    </tr>\n",
       "    <tr>\n",
       "      <th>9</th>\n",
       "      <td>{'apartamento': 'E502 (blocoAP)', 'datas_combi...</td>\n",
       "    </tr>\n",
       "    <tr>\n",
       "      <th>10</th>\n",
       "      <td>{'apartamento': 'F601 (blocoAP)', 'datas_combi...</td>\n",
       "    </tr>\n",
       "    <tr>\n",
       "      <th>11</th>\n",
       "      <td>{'apartamento': 'F602 (blocoAP)', 'datas_combi...</td>\n",
       "    </tr>\n",
       "    <tr>\n",
       "      <th>12</th>\n",
       "      <td>{'apartamento': 'G701 (blocoAP)', 'datas_combi...</td>\n",
       "    </tr>\n",
       "    <tr>\n",
       "      <th>13</th>\n",
       "      <td>{'apartamento': 'G702 (blocoAP)', 'datas_combi...</td>\n",
       "    </tr>\n",
       "    <tr>\n",
       "      <th>14</th>\n",
       "      <td>{'apartamento': 'H801 (blocoAP)', 'datas_combi...</td>\n",
       "    </tr>\n",
       "  </tbody>\n",
       "</table>\n",
       "</div>"
      ],
      "text/plain": [
       "                                        dados_locacao\n",
       "0   {'apartamento': 'A101 (blocoAP)', 'datas_combi...\n",
       "1   {'apartamento': 'A102 (blocoAP)', 'datas_combi...\n",
       "2   {'apartamento': 'B201 (blocoAP)', 'datas_combi...\n",
       "3   {'apartamento': 'B202 (blocoAP)', 'datas_combi...\n",
       "4   {'apartamento': 'C301 (blocoAP)', 'datas_combi...\n",
       "5   {'apartamento': 'C302 (blocoAP)', 'datas_combi...\n",
       "6   {'apartamento': 'D401 (blocoAP)', 'datas_combi...\n",
       "7   {'apartamento': 'D402 (blocoAP)', 'datas_combi...\n",
       "8   {'apartamento': 'E501 (blocoAP)', 'datas_combi...\n",
       "9   {'apartamento': 'E502 (blocoAP)', 'datas_combi...\n",
       "10  {'apartamento': 'F601 (blocoAP)', 'datas_combi...\n",
       "11  {'apartamento': 'F602 (blocoAP)', 'datas_combi...\n",
       "12  {'apartamento': 'G701 (blocoAP)', 'datas_combi...\n",
       "13  {'apartamento': 'G702 (blocoAP)', 'datas_combi...\n",
       "14  {'apartamento': 'H801 (blocoAP)', 'datas_combi..."
      ]
     },
     "execution_count": 9,
     "metadata": {},
     "output_type": "execute_result"
    }
   ],
   "source": [
    "dados_imoveis"
   ]
  },
  {
   "cell_type": "code",
   "execution_count": 11,
   "id": "ec3ff3c8",
   "metadata": {},
   "outputs": [
    {
     "ename": "KeyError",
     "evalue": "'dados_locacao'",
     "output_type": "error",
     "traceback": [
      "\u001b[1;31m---------------------------------------------------------------------------\u001b[0m",
      "\u001b[1;31mKeyError\u001b[0m                                  Traceback (most recent call last)",
      "File \u001b[1;32mc:\\Users\\VictorCampos\\anaconda3\\Lib\\site-packages\\pandas\\core\\indexes\\base.py:3805\u001b[0m, in \u001b[0;36mIndex.get_loc\u001b[1;34m(self, key)\u001b[0m\n\u001b[0;32m   3804\u001b[0m \u001b[38;5;28;01mtry\u001b[39;00m:\n\u001b[1;32m-> 3805\u001b[0m     \u001b[38;5;28;01mreturn\u001b[39;00m \u001b[38;5;28mself\u001b[39m\u001b[38;5;241m.\u001b[39m_engine\u001b[38;5;241m.\u001b[39mget_loc(casted_key)\n\u001b[0;32m   3806\u001b[0m \u001b[38;5;28;01mexcept\u001b[39;00m \u001b[38;5;167;01mKeyError\u001b[39;00m \u001b[38;5;28;01mas\u001b[39;00m err:\n",
      "File \u001b[1;32mindex.pyx:167\u001b[0m, in \u001b[0;36mpandas._libs.index.IndexEngine.get_loc\u001b[1;34m()\u001b[0m\n",
      "File \u001b[1;32mindex.pyx:196\u001b[0m, in \u001b[0;36mpandas._libs.index.IndexEngine.get_loc\u001b[1;34m()\u001b[0m\n",
      "File \u001b[1;32mpandas\\\\_libs\\\\hashtable_class_helper.pxi:7081\u001b[0m, in \u001b[0;36mpandas._libs.hashtable.PyObjectHashTable.get_item\u001b[1;34m()\u001b[0m\n",
      "File \u001b[1;32mpandas\\\\_libs\\\\hashtable_class_helper.pxi:7089\u001b[0m, in \u001b[0;36mpandas._libs.hashtable.PyObjectHashTable.get_item\u001b[1;34m()\u001b[0m\n",
      "\u001b[1;31mKeyError\u001b[0m: 'dados_locacao'",
      "\nThe above exception was the direct cause of the following exception:\n",
      "\u001b[1;31mKeyError\u001b[0m                                  Traceback (most recent call last)",
      "Cell \u001b[1;32mIn[11], line 1\u001b[0m\n\u001b[1;32m----> 1\u001b[0m dados_imoveis \u001b[38;5;241m=\u001b[39m pd\u001b[38;5;241m.\u001b[39mjson_normalize(dados_imoveis[\u001b[38;5;124m'\u001b[39m\u001b[38;5;124mdados_locacao\u001b[39m\u001b[38;5;124m'\u001b[39m])\n\u001b[0;32m      2\u001b[0m dados_imoveis\n",
      "File \u001b[1;32mc:\\Users\\VictorCampos\\anaconda3\\Lib\\site-packages\\pandas\\core\\frame.py:4102\u001b[0m, in \u001b[0;36mDataFrame.__getitem__\u001b[1;34m(self, key)\u001b[0m\n\u001b[0;32m   4100\u001b[0m \u001b[38;5;28;01mif\u001b[39;00m \u001b[38;5;28mself\u001b[39m\u001b[38;5;241m.\u001b[39mcolumns\u001b[38;5;241m.\u001b[39mnlevels \u001b[38;5;241m>\u001b[39m \u001b[38;5;241m1\u001b[39m:\n\u001b[0;32m   4101\u001b[0m     \u001b[38;5;28;01mreturn\u001b[39;00m \u001b[38;5;28mself\u001b[39m\u001b[38;5;241m.\u001b[39m_getitem_multilevel(key)\n\u001b[1;32m-> 4102\u001b[0m indexer \u001b[38;5;241m=\u001b[39m \u001b[38;5;28mself\u001b[39m\u001b[38;5;241m.\u001b[39mcolumns\u001b[38;5;241m.\u001b[39mget_loc(key)\n\u001b[0;32m   4103\u001b[0m \u001b[38;5;28;01mif\u001b[39;00m is_integer(indexer):\n\u001b[0;32m   4104\u001b[0m     indexer \u001b[38;5;241m=\u001b[39m [indexer]\n",
      "File \u001b[1;32mc:\\Users\\VictorCampos\\anaconda3\\Lib\\site-packages\\pandas\\core\\indexes\\base.py:3812\u001b[0m, in \u001b[0;36mIndex.get_loc\u001b[1;34m(self, key)\u001b[0m\n\u001b[0;32m   3807\u001b[0m     \u001b[38;5;28;01mif\u001b[39;00m \u001b[38;5;28misinstance\u001b[39m(casted_key, \u001b[38;5;28mslice\u001b[39m) \u001b[38;5;129;01mor\u001b[39;00m (\n\u001b[0;32m   3808\u001b[0m         \u001b[38;5;28misinstance\u001b[39m(casted_key, abc\u001b[38;5;241m.\u001b[39mIterable)\n\u001b[0;32m   3809\u001b[0m         \u001b[38;5;129;01mand\u001b[39;00m \u001b[38;5;28many\u001b[39m(\u001b[38;5;28misinstance\u001b[39m(x, \u001b[38;5;28mslice\u001b[39m) \u001b[38;5;28;01mfor\u001b[39;00m x \u001b[38;5;129;01min\u001b[39;00m casted_key)\n\u001b[0;32m   3810\u001b[0m     ):\n\u001b[0;32m   3811\u001b[0m         \u001b[38;5;28;01mraise\u001b[39;00m InvalidIndexError(key)\n\u001b[1;32m-> 3812\u001b[0m     \u001b[38;5;28;01mraise\u001b[39;00m \u001b[38;5;167;01mKeyError\u001b[39;00m(key) \u001b[38;5;28;01mfrom\u001b[39;00m \u001b[38;5;21;01merr\u001b[39;00m\n\u001b[0;32m   3813\u001b[0m \u001b[38;5;28;01mexcept\u001b[39;00m \u001b[38;5;167;01mTypeError\u001b[39;00m:\n\u001b[0;32m   3814\u001b[0m     \u001b[38;5;66;03m# If we have a listlike key, _check_indexing_error will raise\u001b[39;00m\n\u001b[0;32m   3815\u001b[0m     \u001b[38;5;66;03m#  InvalidIndexError. Otherwise we fall through and re-raise\u001b[39;00m\n\u001b[0;32m   3816\u001b[0m     \u001b[38;5;66;03m#  the TypeError.\u001b[39;00m\n\u001b[0;32m   3817\u001b[0m     \u001b[38;5;28mself\u001b[39m\u001b[38;5;241m.\u001b[39m_check_indexing_error(key)\n",
      "\u001b[1;31mKeyError\u001b[0m: 'dados_locacao'"
     ]
    }
   ],
   "source": [
    "dados_imoveis = pd.json_normalize(dados_imoveis['dados_locacao'])\n",
    "dados_imoveis"
   ]
  }
 ],
 "metadata": {
  "kernelspec": {
   "display_name": "base",
   "language": "python",
   "name": "python3"
  },
  "language_info": {
   "codemirror_mode": {
    "name": "ipython",
    "version": 3
   },
   "file_extension": ".py",
   "mimetype": "text/x-python",
   "name": "python",
   "nbconvert_exporter": "python",
   "pygments_lexer": "ipython3",
   "version": "3.12.7"
  }
 },
 "nbformat": 4,
 "nbformat_minor": 5
}
