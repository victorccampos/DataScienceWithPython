{
 "cells": [
  {
   "cell_type": "markdown",
   "metadata": {},
   "source": [
    "<h1 align=\"center\">Numpy - 01 - Conhecendo a biblioteca e nossos dados</h1>  \n",
    "\n",
    "- Criar arrays com sequências numéricas.  \n",
    "- Carregar arquivos.  \n",
    "- Verificar as dimensões de um array.  \n",
    "- Realizar a transposição de um array.  "
   ]
  },
  {
   "cell_type": "code",
   "execution_count": 1,
   "metadata": {},
   "outputs": [],
   "source": [
    "import numpy as np\n",
    "import matplotlib.pyplot as plt"
   ]
  },
  {
   "cell_type": "markdown",
   "metadata": {},
   "source": [
    "O arquivo `csv` tem as colunas com nomes, mas array só possui um tipo. Pra isso usamos o parâmetro `use_cols` com um arange (exclusivo): 1 a 88.  \n",
    "\n",
    "$7 \\cdot 12 + 3 = 87$  \n",
    "\n",
    "Podemos importar tanto localmente, com o `apples.csv` quanto via `url`. Via `url`, vai criar localmente uma cópia da fonte. Por isso, optei por fabricar os csv's."
   ]
  },
  {
   "cell_type": "code",
   "execution_count": 2,
   "metadata": {},
   "outputs": [],
   "source": [
    "data_apples = np.loadtxt(\"apples.csv\", delimiter=\",\", usecols=np.arange(1, 88, 1))"
   ]
  },
  {
   "cell_type": "code",
   "execution_count": 3,
   "metadata": {},
   "outputs": [
    {
     "data": {
      "text/plain": [
       "(2,\n",
       " 522,\n",
       " (6, 87),\n",
       " array([[  1.2013,  79.72  ,  42.67  ,  62.55  ,  48.26  ,  71.25  ],\n",
       "        [  2.2013,  81.08  ,  44.37  ,  62.73  ,  51.01  ,  71.35  ],\n",
       "        [  3.2013,  79.68  ,  44.73  ,  63.43  ,  50.91  ,  70.9   ],\n",
       "        [  4.2013,  79.8   ,  46.75  ,  63.83  ,  53.94  ,  71.92  ],\n",
       "        [  5.2013,  80.63  ,      nan,  66.06  ,  61.27  ,  72.91  ],\n",
       "        [  6.2013,  80.8   ,  51.59  ,  69.22  ,  65.44  ,  74.39  ],\n",
       "        [  7.2013,  80.28  ,  57.8   ,  72.07  ,  56.51  ,  73.1   ],\n",
       "        [  8.2013,  78.99  ,  62.14  ,  69.31  ,  53.    ,  70.24  ],\n",
       "        [  9.2013,  76.77  ,  56.76  ,  65.18  ,  43.87  ,  69.12  ],\n",
       "        [ 10.2013,  76.09  ,  50.85  ,  62.13  ,  42.12  ,  68.98  ],\n",
       "        [ 11.2013,  76.36  ,  46.43  ,  64.17  ,  43.98  ,  68.58  ],\n",
       "        [ 12.2013,  77.16  ,  46.73  ,  65.5   ,  44.66  ,  69.5   ],\n",
       "        [  1.2014,  77.5   ,  45.85  ,  66.85  ,  47.73  ,  70.14  ],\n",
       "        [  2.2014,  79.03  ,  49.25  ,  68.38  ,  52.31  ,  70.58  ],\n",
       "        [  3.2014,  80.28  ,  48.14  ,  68.77  ,  56.8   ,  70.78  ],\n",
       "        [  4.2014,  80.05  ,  49.18  ,  69.32  ,  51.15  ,  72.78  ],\n",
       "        [  5.2014,  78.11  ,  49.49  ,  69.77  ,  54.63  ,  72.84  ],\n",
       "        [  6.2014,  76.9   ,  49.83  ,  70.17  ,  55.8   ,  74.74  ],\n",
       "        [  7.2014,  77.68  ,  49.14  ,  70.76  ,  57.31  ,  76.43  ],\n",
       "        [  8.2014,  76.05  ,  63.21  ,  75.16  ,  53.81  ,  81.2   ],\n",
       "        [  9.2014,  75.53  ,  61.2   ,  74.86  ,  55.5   ,  82.04  ],\n",
       "        [ 10.2014,  73.39  ,  60.34  ,  71.47  ,  52.95  ,  79.67  ],\n",
       "        [ 11.2014,  78.36  ,  62.2   ,  76.08  ,  53.29  ,  81.25  ],\n",
       "        [ 12.2014,  89.16  ,  74.2   ,  82.11  ,  54.86  ,  85.88  ],\n",
       "        [  1.2015, 105.43  ,  75.32  ,  94.63  ,  71.72  ,  91.35  ],\n",
       "        [  2.2015, 104.82  ,  75.92  ,  98.54  ,  74.36  , 101.32  ],\n",
       "        [  3.2015, 101.15  ,  72.89  ,  97.84  ,  78.25  , 102.45  ],\n",
       "        [  4.2015,  98.63  ,  74.85  ,  94.54  ,  70.63  ,  98.18  ],\n",
       "        [  5.2015,  99.96  ,  92.19  ,  97.88  ,  77.06  , 105.1   ],\n",
       "        [  6.2015,  97.29  ,  99.7   ,  97.73  ,  81.52  , 104.85  ],\n",
       "        [  7.2015,  98.64  , 102.78  , 100.89  ,  84.12  , 111.48  ],\n",
       "        [  8.2015, 104.26  ,  92.67  , 104.88  ,  83.33  , 118.51  ],\n",
       "        [  9.2015, 102.63  ,  90.63  , 104.39  ,  66.98  , 118.92  ],\n",
       "        [ 10.2015,  98.64  ,  83.31  , 101.9   ,  62.04  , 109.87  ],\n",
       "        [ 11.2015,  97.17  ,  75.5   ,  98.99  ,  59.79  , 105.22  ],\n",
       "        [ 12.2015,  98.09  ,  74.6   ,  99.42  ,  66.06  , 105.45  ],\n",
       "        [  1.2016, 103.07  ,  76.94  , 106.37  ,  71.99  , 115.61  ],\n",
       "        [  2.2016, 110.26  ,  83.04  , 113.89  ,  76.79  , 116.61  ],\n",
       "        [  3.2016, 110.84  ,  80.74  , 114.78  ,  80.98  , 120.39  ],\n",
       "        [  4.2016, 112.28  ,  80.29  , 115.6   ,  89.18  , 119.2   ],\n",
       "        [  5.2016, 111.1   ,  82.82  , 115.89  ,  92.71  , 119.92  ],\n",
       "        [  6.2016, 110.06  ,  86.29  , 117.66  ,  94.85  , 120.57  ],\n",
       "        [  7.2016, 113.7   ,  87.41  , 118.27  ,  99.18  , 123.37  ],\n",
       "        [  8.2016, 112.88  ,  85.1   , 114.19  ,  86.33  , 121.39  ],\n",
       "        [  9.2016, 102.08  ,  78.08  , 101.81  ,  71.94  , 118.16  ],\n",
       "        [ 10.2016,  95.54  ,  76.06  ,  91.62  ,  67.18  , 108.84  ],\n",
       "        [ 11.2016,  91.33  ,  69.23  ,  90.15  ,  62.98  , 100.78  ],\n",
       "        [ 12.2016,  89.99  ,  69.04  ,  90.55  ,  69.45  ,  99.92  ],\n",
       "        [  1.2017,  91.44  ,  64.48  ,  92.3   ,  67.56  , 100.65  ],\n",
       "        [  2.2017,  93.51  ,  65.73  ,  91.75  ,  67.92  ,  98.92  ],\n",
       "        [  3.2017,  93.6   ,  67.2   ,  92.    ,  68.4   , 100.31  ],\n",
       "        [  4.2017,  93.78  ,  70.25  ,  92.57  ,  67.97  ,  96.41  ],\n",
       "        [  5.2017,  98.91  ,  82.59  , 100.28  ,  76.33  , 101.24  ],\n",
       "        [  6.2017, 121.76  ,  92.12  , 114.33  ,  95.79  , 118.7   ],\n",
       "        [  7.2017, 129.6   , 100.82  , 122.17  , 112.36  , 133.29  ],\n",
       "        [  8.2017, 127.9   ,  95.23  , 117.83  ,  82.03  , 130.31  ],\n",
       "        [  9.2017, 114.55  ,  89.51  , 112.49  ,  73.83  , 122.4   ],\n",
       "        [ 10.2017, 101.88  ,  82.84  ,  93.7   ,  66.12  , 104.98  ],\n",
       "        [ 11.2017,  99.09  ,  82.3   ,  97.17  ,  63.24  , 107.54  ],\n",
       "        [ 12.2017, 103.35  ,  83.76  ,  95.64  ,  63.98  , 110.74  ],\n",
       "        [  1.2018, 106.58  ,  84.72  , 102.21  ,  69.1   , 110.51  ],\n",
       "        [  2.2018, 108.    ,  83.91  , 107.58  ,  70.04  , 111.46  ],\n",
       "        [  3.2018, 114.95  ,  99.14  , 110.48  ,  80.03  , 113.42  ],\n",
       "        [  4.2018, 121.17  , 101.6   , 117.73  ,  87.92  , 118.15  ],\n",
       "        [  5.2018, 122.48  , 113.03  , 122.07  ,  97.07  , 114.    ],\n",
       "        [  6.2018, 127.58  , 119.54  , 128.58  , 106.52  , 124.91  ],\n",
       "        [  7.2018, 131.89  , 118.09  , 131.12  , 108.93  , 126.06  ],\n",
       "        [  8.2018, 129.36  , 107.32  , 127.08  ,  95.17  , 123.3   ],\n",
       "        [  9.2018, 104.26  ,  82.6   , 110.99  ,  74.31  , 111.61  ],\n",
       "        [ 10.2018,  93.45  ,  77.4   ,  97.43  ,  62.63  ,  98.82  ],\n",
       "        [ 11.2018,  92.93  ,  71.77  ,  92.05  ,  69.92  ,  97.47  ],\n",
       "        [ 12.2018,  96.15  ,  71.25  ,  93.21  ,  70.58  , 103.01  ],\n",
       "        [  1.2019,  99.1   ,  71.35  ,  98.58  ,  74.63  , 109.36  ],\n",
       "        [  2.2019, 103.    ,  73.62  , 100.23  ,  78.69  , 104.79  ],\n",
       "        [  3.2019, 103.31  ,  76.2   , 102.09  ,  81.82  , 105.09  ],\n",
       "        [  4.2019, 103.01  ,  74.15  , 101.73  ,  82.36  , 103.16  ],\n",
       "        [  5.2019, 107.37  ,  75.67  , 107.28  ,  89.44  , 106.52  ],\n",
       "        [  6.2019, 116.91  ,  79.2   , 115.35  , 102.01  , 121.68  ],\n",
       "        [  7.2019, 125.29  ,  80.85  , 123.03  , 116.12  , 125.32  ],\n",
       "        [  8.2019, 123.94  ,  85.33  , 123.08  ,  92.06  , 123.41  ],\n",
       "        [  9.2019, 113.03  ,  75.02  , 109.71  ,  82.7   , 108.48  ],\n",
       "        [ 10.2019, 102.19  ,  77.95  ,  97.22  ,  66.62  ,  98.73  ],\n",
       "        [ 11.2019,  97.83  ,  78.98  ,  95.75  ,  68.11  ,  96.25  ],\n",
       "        [ 12.2019, 101.07  ,  76.55  ,  97.09  ,  73.48  , 100.12  ],\n",
       "        [  1.202 , 103.44  ,  74.89  ,  98.18  ,  82.04  , 101.29  ],\n",
       "        [  2.202 , 108.23  ,  70.    , 103.1   ,  81.19  , 102.81  ],\n",
       "        [  3.202 , 110.28  ,  81.53  , 110.6   ,  95.05  , 108.53  ]]))"
      ]
     },
     "execution_count": 3,
     "metadata": {},
     "output_type": "execute_result"
    }
   ],
   "source": [
    "data_apples.ndim, data_apples.size, data_apples.shape, data_apples.T"
   ]
  },
  {
   "cell_type": "markdown",
   "metadata": {},
   "source": [
    "## 01 - Questão\n",
    "Um colega pediu para você carregar uma base de dados e verificar o número de linhas e colunas do arquivo carregado. Ele estava com dúvidas se o número total de linhas havia sido carregado.\n",
    "\n",
    "Como determinar as dimensões corretas de um array?\n",
    "\n",
    "> Para responder essa pergunta você precisará do dataset. Você pode usar a opção `skiprows=1` para pular a primeira linha do arquivo."
   ]
  },
  {
   "cell_type": "code",
   "execution_count": 4,
   "metadata": {},
   "outputs": [
    {
     "data": {
      "text/plain": [
       "array([[3.00000e+00, 5.18217e+03],\n",
       "       [        nan,         nan],\n",
       "       [1.00000e+00, 5.06000e+03],\n",
       "       [2.00000e+00, 5.12072e+03],\n",
       "       [5.00000e+00, 5.30729e+03],\n",
       "       [6.00000e+00, 5.37097e+03],\n",
       "       [7.00000e+00, 5.43543e+03],\n",
       "       [8.00000e+00, 5.50065e+03],\n",
       "       [9.00000e+00, 5.56666e+03],\n",
       "       [1.00000e+01, 5.63346e+03],\n",
       "       [1.10000e+01, 5.70106e+03],\n",
       "       [1.20000e+01, 5.76947e+03]])"
      ]
     },
     "execution_count": 4,
     "metadata": {},
     "output_type": "execute_result"
    }
   ],
   "source": [
    "bytebank = np.loadtxt(\"bytebank.csv\", skiprows=1, delimiter=',', dtype=float)\n",
    "bytebank"
   ]
  },
  {
   "cell_type": "markdown",
   "metadata": {},
   "source": [
    "# Dataset Citrus\n"
   ]
  },
  {
   "cell_type": "code",
   "execution_count": 5,
   "metadata": {},
   "outputs": [],
   "source": [
    "citrus = np.loadtxt(\"citrus.csv\", delimiter=',',skiprows=1, usecols=np.arange(1, 5), dtype=float)"
   ]
  },
  {
   "cell_type": "markdown",
   "metadata": {},
   "source": [
    "<h1 align=\"center\"> Numpy - 02 - Exploração dos dados </h1>"
   ]
  },
  {
   "cell_type": "code",
   "execution_count": 6,
   "metadata": {},
   "outputs": [],
   "source": [
    "# Nomes agora como labels.\n",
    "dado_transposto = data_apples.T"
   ]
  },
  {
   "cell_type": "code",
   "execution_count": 7,
   "metadata": {},
   "outputs": [
    {
     "data": {
      "text/plain": [
       "array([ 1.2013,  2.2013,  3.2013,  4.2013,  5.2013,  6.2013,  7.2013,\n",
       "        8.2013,  9.2013, 10.2013, 11.2013, 12.2013,  1.2014,  2.2014,\n",
       "        3.2014,  4.2014,  5.2014,  6.2014,  7.2014,  8.2014,  9.2014,\n",
       "       10.2014, 11.2014, 12.2014,  1.2015,  2.2015,  3.2015,  4.2015,\n",
       "        5.2015,  6.2015,  7.2015,  8.2015,  9.2015, 10.2015, 11.2015,\n",
       "       12.2015,  1.2016,  2.2016,  3.2016,  4.2016,  5.2016,  6.2016,\n",
       "        7.2016,  8.2016,  9.2016, 10.2016, 11.2016, 12.2016,  1.2017,\n",
       "        2.2017,  3.2017,  4.2017,  5.2017,  6.2017,  7.2017,  8.2017,\n",
       "        9.2017, 10.2017, 11.2017, 12.2017,  1.2018,  2.2018,  3.2018,\n",
       "        4.2018,  5.2018,  6.2018,  7.2018,  8.2018,  9.2018, 10.2018,\n",
       "       11.2018, 12.2018,  1.2019,  2.2019,  3.2019,  4.2019,  5.2019,\n",
       "        6.2019,  7.2019,  8.2019,  9.2019, 10.2019, 11.2019, 12.2019,\n",
       "        1.202 ,  2.202 ,  3.202 ])"
      ]
     },
     "execution_count": 7,
     "metadata": {},
     "output_type": "execute_result"
    }
   ],
   "source": [
    "datas = dado_transposto[:,0]\n",
    "datas"
   ]
  },
  {
   "cell_type": "code",
   "execution_count": 8,
   "metadata": {},
   "outputs": [
    {
     "data": {
      "text/plain": [
       "array([[ 79.72,  42.67,  62.55,  48.26,  71.25],\n",
       "       [ 81.08,  44.37,  62.73,  51.01,  71.35],\n",
       "       [ 79.68,  44.73,  63.43,  50.91,  70.9 ],\n",
       "       [ 79.8 ,  46.75,  63.83,  53.94,  71.92],\n",
       "       [ 80.63,    nan,  66.06,  61.27,  72.91],\n",
       "       [ 80.8 ,  51.59,  69.22,  65.44,  74.39],\n",
       "       [ 80.28,  57.8 ,  72.07,  56.51,  73.1 ],\n",
       "       [ 78.99,  62.14,  69.31,  53.  ,  70.24],\n",
       "       [ 76.77,  56.76,  65.18,  43.87,  69.12],\n",
       "       [ 76.09,  50.85,  62.13,  42.12,  68.98],\n",
       "       [ 76.36,  46.43,  64.17,  43.98,  68.58],\n",
       "       [ 77.16,  46.73,  65.5 ,  44.66,  69.5 ],\n",
       "       [ 77.5 ,  45.85,  66.85,  47.73,  70.14],\n",
       "       [ 79.03,  49.25,  68.38,  52.31,  70.58],\n",
       "       [ 80.28,  48.14,  68.77,  56.8 ,  70.78],\n",
       "       [ 80.05,  49.18,  69.32,  51.15,  72.78],\n",
       "       [ 78.11,  49.49,  69.77,  54.63,  72.84],\n",
       "       [ 76.9 ,  49.83,  70.17,  55.8 ,  74.74],\n",
       "       [ 77.68,  49.14,  70.76,  57.31,  76.43],\n",
       "       [ 76.05,  63.21,  75.16,  53.81,  81.2 ],\n",
       "       [ 75.53,  61.2 ,  74.86,  55.5 ,  82.04],\n",
       "       [ 73.39,  60.34,  71.47,  52.95,  79.67],\n",
       "       [ 78.36,  62.2 ,  76.08,  53.29,  81.25],\n",
       "       [ 89.16,  74.2 ,  82.11,  54.86,  85.88],\n",
       "       [105.43,  75.32,  94.63,  71.72,  91.35],\n",
       "       [104.82,  75.92,  98.54,  74.36, 101.32],\n",
       "       [101.15,  72.89,  97.84,  78.25, 102.45],\n",
       "       [ 98.63,  74.85,  94.54,  70.63,  98.18],\n",
       "       [ 99.96,  92.19,  97.88,  77.06, 105.1 ],\n",
       "       [ 97.29,  99.7 ,  97.73,  81.52, 104.85],\n",
       "       [ 98.64, 102.78, 100.89,  84.12, 111.48],\n",
       "       [104.26,  92.67, 104.88,  83.33, 118.51],\n",
       "       [102.63,  90.63, 104.39,  66.98, 118.92],\n",
       "       [ 98.64,  83.31, 101.9 ,  62.04, 109.87],\n",
       "       [ 97.17,  75.5 ,  98.99,  59.79, 105.22],\n",
       "       [ 98.09,  74.6 ,  99.42,  66.06, 105.45],\n",
       "       [103.07,  76.94, 106.37,  71.99, 115.61],\n",
       "       [110.26,  83.04, 113.89,  76.79, 116.61],\n",
       "       [110.84,  80.74, 114.78,  80.98, 120.39],\n",
       "       [112.28,  80.29, 115.6 ,  89.18, 119.2 ],\n",
       "       [111.1 ,  82.82, 115.89,  92.71, 119.92],\n",
       "       [110.06,  86.29, 117.66,  94.85, 120.57],\n",
       "       [113.7 ,  87.41, 118.27,  99.18, 123.37],\n",
       "       [112.88,  85.1 , 114.19,  86.33, 121.39],\n",
       "       [102.08,  78.08, 101.81,  71.94, 118.16],\n",
       "       [ 95.54,  76.06,  91.62,  67.18, 108.84],\n",
       "       [ 91.33,  69.23,  90.15,  62.98, 100.78],\n",
       "       [ 89.99,  69.04,  90.55,  69.45,  99.92],\n",
       "       [ 91.44,  64.48,  92.3 ,  67.56, 100.65],\n",
       "       [ 93.51,  65.73,  91.75,  67.92,  98.92],\n",
       "       [ 93.6 ,  67.2 ,  92.  ,  68.4 , 100.31],\n",
       "       [ 93.78,  70.25,  92.57,  67.97,  96.41],\n",
       "       [ 98.91,  82.59, 100.28,  76.33, 101.24],\n",
       "       [121.76,  92.12, 114.33,  95.79, 118.7 ],\n",
       "       [129.6 , 100.82, 122.17, 112.36, 133.29],\n",
       "       [127.9 ,  95.23, 117.83,  82.03, 130.31],\n",
       "       [114.55,  89.51, 112.49,  73.83, 122.4 ],\n",
       "       [101.88,  82.84,  93.7 ,  66.12, 104.98],\n",
       "       [ 99.09,  82.3 ,  97.17,  63.24, 107.54],\n",
       "       [103.35,  83.76,  95.64,  63.98, 110.74],\n",
       "       [106.58,  84.72, 102.21,  69.1 , 110.51],\n",
       "       [108.  ,  83.91, 107.58,  70.04, 111.46],\n",
       "       [114.95,  99.14, 110.48,  80.03, 113.42],\n",
       "       [121.17, 101.6 , 117.73,  87.92, 118.15],\n",
       "       [122.48, 113.03, 122.07,  97.07, 114.  ],\n",
       "       [127.58, 119.54, 128.58, 106.52, 124.91],\n",
       "       [131.89, 118.09, 131.12, 108.93, 126.06],\n",
       "       [129.36, 107.32, 127.08,  95.17, 123.3 ],\n",
       "       [104.26,  82.6 , 110.99,  74.31, 111.61],\n",
       "       [ 93.45,  77.4 ,  97.43,  62.63,  98.82],\n",
       "       [ 92.93,  71.77,  92.05,  69.92,  97.47],\n",
       "       [ 96.15,  71.25,  93.21,  70.58, 103.01],\n",
       "       [ 99.1 ,  71.35,  98.58,  74.63, 109.36],\n",
       "       [103.  ,  73.62, 100.23,  78.69, 104.79],\n",
       "       [103.31,  76.2 , 102.09,  81.82, 105.09],\n",
       "       [103.01,  74.15, 101.73,  82.36, 103.16],\n",
       "       [107.37,  75.67, 107.28,  89.44, 106.52],\n",
       "       [116.91,  79.2 , 115.35, 102.01, 121.68],\n",
       "       [125.29,  80.85, 123.03, 116.12, 125.32],\n",
       "       [123.94,  85.33, 123.08,  92.06, 123.41],\n",
       "       [113.03,  75.02, 109.71,  82.7 , 108.48],\n",
       "       [102.19,  77.95,  97.22,  66.62,  98.73],\n",
       "       [ 97.83,  78.98,  95.75,  68.11,  96.25],\n",
       "       [101.07,  76.55,  97.09,  73.48, 100.12],\n",
       "       [103.44,  74.89,  98.18,  82.04, 101.29],\n",
       "       [108.23,  70.  , 103.1 ,  81.19, 102.81],\n",
       "       [110.28,  81.53, 110.6 ,  95.05, 108.53]])"
      ]
     },
     "execution_count": 8,
     "metadata": {},
     "output_type": "execute_result"
    }
   ],
   "source": [
    "# Seleção da coluna 1 a 5 com todas as linhas\n",
    "precos = dado_transposto[:,1:6]\n",
    "precos "
   ]
  },
  {
   "cell_type": "code",
   "execution_count": 9,
   "metadata": {},
   "outputs": [
    {
     "data": {
      "text/plain": [
       "array([ 1.2013,  2.2013,  3.2013,  4.2013,  5.2013,  6.2013,  7.2013,\n",
       "        8.2013,  9.2013, 10.2013, 11.2013, 12.2013,  1.2014,  2.2014,\n",
       "        3.2014,  4.2014,  5.2014,  6.2014,  7.2014,  8.2014,  9.2014,\n",
       "       10.2014, 11.2014, 12.2014,  1.2015,  2.2015,  3.2015,  4.2015,\n",
       "        5.2015,  6.2015,  7.2015,  8.2015,  9.2015, 10.2015, 11.2015,\n",
       "       12.2015,  1.2016,  2.2016,  3.2016,  4.2016,  5.2016,  6.2016,\n",
       "        7.2016,  8.2016,  9.2016, 10.2016, 11.2016, 12.2016,  1.2017,\n",
       "        2.2017,  3.2017,  4.2017,  5.2017,  6.2017,  7.2017,  8.2017,\n",
       "        9.2017, 10.2017, 11.2017, 12.2017,  1.2018,  2.2018,  3.2018,\n",
       "        4.2018,  5.2018,  6.2018,  7.2018,  8.2018,  9.2018, 10.2018,\n",
       "       11.2018, 12.2018,  1.2019,  2.2019,  3.2019,  4.2019,  5.2019,\n",
       "        6.2019,  7.2019,  8.2019,  9.2019, 10.2019, 11.2019, 12.2019,\n",
       "        1.202 ,  2.202 ,  3.202 ])"
      ]
     },
     "execution_count": 9,
     "metadata": {},
     "output_type": "execute_result"
    }
   ],
   "source": [
    "datas"
   ]
  },
  {
   "cell_type": "markdown",
   "metadata": {},
   "source": [
    "Vamos representar as danças como 87 meses"
   ]
  },
  {
   "cell_type": "code",
   "execution_count": null,
   "metadata": {},
   "outputs": [],
   "source": []
  },
  {
   "cell_type": "code",
   "execution_count": 10,
   "metadata": {},
   "outputs": [
    {
     "data": {
      "text/plain": [
       "[<matplotlib.lines.Line2D at 0x2303400f080>]"
      ]
     },
     "execution_count": 10,
     "metadata": {},
     "output_type": "execute_result"
    },
    {
     "data": {
      "image/png": "[encoded data removed]",
      "text/plain": [
       "<Figure size 640x480 with 1 Axes>"
      ]
     },
     "metadata": {},
     "output_type": "display_data"
    }
   ],
   "source": [
    "# Preços de Moscow -> [0]\n",
    "DATAS = np.arange(1, datas.size +1, 1)\n",
    "plt.title(\"Preço com o tempo\")\n",
    "plt.plot(DATAS, precos[:,0])"
   ]
  },
  {
   "cell_type": "code",
   "execution_count": 11,
   "metadata": {},
   "outputs": [],
   "source": [
    "### Precos por cidade\n",
    "Moscow_precos =  precos[:,0]\n",
    "Kaliningrad_precos = precos[:,1]\n",
    "Petersburg_precos = precos[:,2]\n",
    "Krasnodar_precos = precos[:,3]\n",
    "Ekaterinburg_precos = precos[:,4]"
   ]
  },
  {
   "cell_type": "markdown",
   "metadata": {},
   "source": [
    "> 💡 Será que o preço tem a ver com a época do ano?"
   ]
  },
  {
   "cell_type": "code",
   "execution_count": 12,
   "metadata": {},
   "outputs": [],
   "source": [
    "Moscow_ano1 = Moscow_precos[0:12] \n",
    "Moscow_ano2 = Moscow_precos[12:24]\n",
    "Moscow_ano3 = Moscow_precos[24:36]\n",
    "Moscow_ano4 = Moscow_precos[36:48]"
   ]
  },
  {
   "cell_type": "code",
   "execution_count": 13,
   "metadata": {},
   "outputs": [
    {
     "data": {
      "text/plain": [
       "<matplotlib.legend.Legend at 0x23034030a10>"
      ]
     },
     "execution_count": 13,
     "metadata": {},
     "output_type": "execute_result"
    },
    {
     "data": {
      "image/png": "[encoded data removed]",
      "text/plain": [
       "<Figure size 640x480 with 1 Axes>"
      ]
     },
     "metadata": {},
     "output_type": "display_data"
    }
   ],
   "source": [
    "meses = np.arange(1, 13)\n",
    "plt.plot(meses, Moscow_ano1, label=\"Ano 1\")\n",
    "plt.plot(meses, Moscow_ano2, label=\"Ano 2\")\n",
    "plt.plot(meses, Moscow_ano3, label=\"Ano 3\")\n",
    "plt.plot(meses, Moscow_ano4, label=\"Ano 4\")\n",
    "plt.tight_layout()\n",
    "plt.legend()"
   ]
  },
  {
   "cell_type": "code",
   "execution_count": 14,
   "metadata": {},
   "outputs": [
    {
     "data": {
      "text/plain": [
       "(False, False)"
      ]
     },
     "execution_count": 14,
     "metadata": {},
     "output_type": "execute_result"
    }
   ],
   "source": [
    "## Comparando arrays\n",
    "np.array_equal(Moscow_ano1, Moscow_ano2) , np.allclose(Moscow_ano1, Moscow_ano2, rtol=0.01)"
   ]
  },
  {
   "cell_type": "markdown",
   "metadata": {},
   "source": [
    "Chegou a hora de você testar os conhecimentos desenvolvidos durante a aula. Continuando com o projeto das laranjas/toranjas agora você deve selecionar parte dos dados. As colunas que iremos avaliar são as de diâmetro e peso. \n",
    "\n",
    ">Crie arrays específicos para guardar o diâmetro e peso da laranja e toranja. O diâmetro está na coluna zero e o peso na coluna 1. Os dados referentes a laranja vão até a linha 4999 e os referentes à toranja iniciam na linha 5000 do arquivo.\n",
    ">Após fazer a seleção de dados, importe a biblioteca matplotlib e crie um gráfico para a laranja e para a toranja do peso pelo diâmetro"
   ]
  },
  {
   "cell_type": "code",
   "execution_count": 15,
   "metadata": {},
   "outputs": [],
   "source": [
    "diametros = citrus[:,0] # todas as linhas, coluna 0\n",
    "pesos = citrus[:,1]"
   ]
  },
  {
   "cell_type": "code",
   "execution_count": 16,
   "metadata": {},
   "outputs": [],
   "source": [
    "diametro_laranja = diametros[:5000]\n",
    "diametro_toranja = diametros[5000:]\n",
    "\n",
    "peso_laranja = pesos[:5000]\n",
    "peso_toranja = pesos[5000:]"
   ]
  },
  {
   "cell_type": "code",
   "execution_count": 17,
   "metadata": {},
   "outputs": [
    {
     "data": {
      "text/plain": [
       "[<matplotlib.lines.Line2D at 0x2304b3fca40>]"
      ]
     },
     "execution_count": 17,
     "metadata": {},
     "output_type": "execute_result"
    },
    {
     "data": {
      "image/png": "[encoded data removed]",
      "text/plain": [
       "<Figure size 640x480 with 1 Axes>"
      ]
     },
     "metadata": {},
     "output_type": "display_data"
    }
   ],
   "source": [
    "plt.plot(diametro_laranja, peso_laranja)\n",
    "plt.plot(diametro_toranja, peso_toranja)"
   ]
  },
  {
   "cell_type": "markdown",
   "metadata": {},
   "source": [
    "- Fazer seleções dentro de arrays;\n",
    "- Construir gráficos utilizando a Matplotlib;\n",
    "- Comparar arrays;\n",
    "- Verificar a existência de NaN"
   ]
  },
  {
   "cell_type": "markdown",
   "metadata": {},
   "source": [
    "<h1 align=\"center\">03 - Operações entre arrays<h1>"
   ]
  },
  {
   "cell_type": "markdown",
   "metadata": {},
   "source": [
    "A ideia da seção foi fazer um ajuste linear: $ y = ax + b $ com as datas ($X$ size = 87) e os preços de Moscow $Y$.  \n",
    "\n",
    "A operação levada em conta foi a seguinte:\n",
    "\n",
    "$$ a = \\frac{N \\cdot \\sum (X_i \\cdot Y_i) - \\sum(X_i)\\cdot \\sum(Y_i)}{N \\cdot \\sum_{i}^{N}(X_i^2) - (\\sum_i X_i)^2}"
   ]
  },
  {
   "cell_type": "code",
   "execution_count": 18,
   "metadata": {},
   "outputs": [
    {
     "name": "stdout",
     "output_type": "stream",
     "text": [
      "coef_angular=np.float64(0.43520212145512926)\n",
      "coef_linear=np.float64(79.64892274792834)\n"
     ]
    }
   ],
   "source": [
    "Y = np.copy(Moscow_precos) # shallow copy\n",
    "N = np.size(Moscow_precos)\n",
    "X = np.arange(1, N+1) # 1,..., 87\n",
    "\n",
    "coef_angular = (N*np.sum(X*Y) - np.sum(X)*np.sum(Y))/(N*np.sum(X**2) - np.sum(X)**2)\n",
    "print(f'{coef_angular=}')\n",
    "\n",
    "coef_linear = np.mean(Y) - coef_angular*np.mean(X)\n",
    "print(f'{coef_linear=}')\n",
    "\n"
   ]
  },
  {
   "cell_type": "code",
   "execution_count": 19,
   "metadata": {},
   "outputs": [
    {
     "data": {
      "text/plain": [
       "np.float64(101.7969539992751)"
      ]
     },
     "execution_count": 19,
     "metadata": {},
     "output_type": "execute_result"
    }
   ],
   "source": [
    "y = coef_angular*X + coef_linear\n",
    "np.linalg.norm(Moscow_precos-y)"
   ]
  },
  {
   "cell_type": "code",
   "execution_count": 20,
   "metadata": {},
   "outputs": [
    {
     "data": {
      "text/plain": [
       "<matplotlib.legend.Legend at 0x2304b2e0200>"
      ]
     },
     "execution_count": 20,
     "metadata": {},
     "output_type": "execute_result"
    },
    {
     "data": {
      "image/png": "[encoded data removed]",
      "text/plain": [
       "<Figure size 640x480 with 1 Axes>"
      ]
     },
     "metadata": {},
     "output_type": "display_data"
    }
   ],
   "source": [
    "# Ajuste Linear \n",
    "plt.title(\"Preços em Moscow\")\n",
    "plt.plot(X,Moscow_precos)\n",
    "plt.plot(X,y)\n",
    "plt.plot(93, coef_angular*93 + coef_linear, '*r', label='previsão') \n",
    "plt.legend()"
   ]
  },
  {
   "cell_type": "markdown",
   "metadata": {},
   "source": [
    "#### Desafio \n",
    "\n",
    "No projeto das laranjas/toranjas agora você deve calcular o coeficiente ângular e o linear para a reta da laranja e para a reta da toranja. Use a fórmula de mínimos quadrados para encontrar cada um."
   ]
  },
  {
   "cell_type": "code",
   "execution_count": 21,
   "metadata": {},
   "outputs": [
    {
     "data": {
      "text/plain": [
       "[<matplotlib.lines.Line2D at 0x2304e4f8320>]"
      ]
     },
     "execution_count": 21,
     "metadata": {},
     "output_type": "execute_result"
    },
    {
     "data": {
      "image/png": "[encoded data removed]",
      "text/plain": [
       "<Figure size 640x480 with 1 Axes>"
      ]
     },
     "metadata": {},
     "output_type": "display_data"
    }
   ],
   "source": [
    "plt.plot(diametro_laranja, peso_laranja)\n",
    "plt.plot(diametro_toranja, peso_toranja)"
   ]
  },
  {
   "cell_type": "code",
   "execution_count": 22,
   "metadata": {},
   "outputs": [],
   "source": [
    "def regressao_linear(X: np.ndarray, Y: np.ndarray):\n",
    "    N = np.size(X)\n",
    "    numerador_coef_angular = (N*np.sum(X*Y) - np.sum(X)*np.sum(Y))\n",
    "    denominador_coef_angular = (N*np.sum(X**2) - np.sum(X)**2)\n",
    "\n",
    "    coef_angular = numerador_coef_angular / denominador_coef_angular\n",
    "    coef_linear = np.mean(Y) - coef_angular*np.mean(X)\n",
    "\n",
    "    return coef_angular, coef_linear\n"
   ]
  },
  {
   "cell_type": "code",
   "execution_count": 23,
   "metadata": {},
   "outputs": [
    {
     "name": "stdout",
     "output_type": "stream",
     "text": [
      "Coeficiente angular da laranja = 14.7997452319846\n",
      "Coeficiente Linear da laranja 27.38560381218413\n"
     ]
    }
   ],
   "source": [
    "a_laranja, b_laranja = regressao_linear(X=diametro_laranja, Y=peso_laranja)\n",
    "print(f\"Coeficiente angular da laranja = {a_laranja}\\nCoeficiente Linear da laranja {b_laranja}\")"
   ]
  },
  {
   "cell_type": "markdown",
   "metadata": {},
   "source": [
    "Nessa aula, você aprendeu a:\n",
    "- Realizar operações entre arrays;  \n",
    "- Calcular norma entre dois arrays;  \n",
    "- Implementar a regressão linear.  "
   ]
  },
  {
   "cell_type": "markdown",
   "metadata": {},
   "source": [
    "<h1 align=\"center\" >04 - Números Aleatórios </h1>"
   ]
  },
  {
   "cell_type": "code",
   "execution_count": 44,
   "metadata": {},
   "outputs": [
    {
     "name": "stdout",
     "output_type": "stream",
     "text": [
      "inteiros_aleatorios=array([35, 38, 25, 29], dtype=int32)\n"
     ]
    }
   ],
   "source": [
    "# numeros inteiros\n",
    "inteiros_aleatorios = np.random.randint(low=20,high=40,size=4)\n",
    "print(f\"{inteiros_aleatorios=}\")\n",
    "\n",
    "# numeros ponto flututante\n",
    "rnd_coeficientes_angulares = np.random.uniform(low=0.10, high=0.90, size=100)\n",
    "\n",
    "# Com os coeficientes angulares armazenados na variável, calcularemos o valor da norma para cada um deles. \n",
    "# Ou seja, testaremos cada um.\n",
    "\n",
    "normas_teste = np.array([])\n",
    "_, b_moscow = regressao_linear(X=datas, Y=Moscow_precos)\n",
    "for i in range(rnd_coeficientes_angulares.size):\n",
    "    normas_teste = np.append(normas_teste, \n",
    "                             np.linalg.norm( Moscow_precos - (rnd_coeficientes_angulares[i]*X + b_moscow))\n",
    "                            )\n"
   ]
  },
  {
   "cell_type": "code",
   "execution_count": 45,
   "metadata": {},
   "outputs": [
    {
     "name": "stdout",
     "output_type": "stream",
     "text": [
      "indice do minimo =  (array([72]),)\n",
      "[0.11420327]\n"
     ]
    }
   ],
   "source": [
    "# Pegar o coeficiente angular no mesmo index do menor valor de norma\n",
    "minimun_index = np.where(normas_teste == np.min(normas_teste))\n",
    "print(\"indice do minimo = \", minimun_index)\n",
    "\n",
    "print(rnd_coeficientes_angulares[minimun_index])\n",
    "      "
   ]
  },
  {
   "cell_type": "markdown",
   "metadata": {},
   "source": [
    "__Reprodutibilidade__"
   ]
  },
  {
   "cell_type": "code",
   "execution_count": 70,
   "metadata": {},
   "outputs": [
    {
     "data": {
      "text/plain": [
       "array([0.3996321 , 0.86057145, 0.68559515, 0.57892679, 0.22481491,\n",
       "       0.22479562, 0.14646689, 0.79294092, 0.58089201, 0.66645806,\n",
       "       0.1164676 , 0.87592788, 0.76595411, 0.26987129, 0.24545997,\n",
       "       0.24672361, 0.34339379, 0.51980515, 0.44555601, 0.33298331,\n",
       "       0.58948232, 0.21159509, 0.33371572, 0.39308947, 0.46485599,\n",
       "       0.72814077, 0.25973903, 0.51138755, 0.57393166, 0.13716033,\n",
       "       0.58603588, 0.2364193 , 0.15204127, 0.85910843, 0.87250563,\n",
       "       0.74671788, 0.34369102, 0.17813769, 0.64738642, 0.45212199,\n",
       "       0.19763059, 0.49614153, 0.12751082, 0.82745632, 0.30702399,\n",
       "       0.63001783, 0.34936886, 0.51605442, 0.53736822, 0.24788356])"
      ]
     },
     "execution_count": 70,
     "metadata": {},
     "output_type": "execute_result"
    }
   ],
   "source": [
    "# Fixa a semente:\n",
    "np.random.seed(42)\n",
    "np.random.uniform(low=0.10, high=0.90, size=50)"
   ]
  },
  {
   "cell_type": "code",
   "execution_count": 77,
   "metadata": {},
   "outputs": [
    {
     "data": {
      "text/plain": [
       "array([0.50250901, 0.78519187, 0.62695491, 0.23034754, 0.156455  ,\n",
       "       0.61393542, 0.12120905, 0.56862047, 0.85218419, 0.56037934,\n",
       "       0.41053594, 0.61463057, 0.46660231, 0.53649343, 0.85317185,\n",
       "       0.40888211, 0.86895245, 0.82428051, 0.25663291, 0.15548904,\n",
       "       0.1806224 , 0.11457746, 0.17555437, 0.64640542, 0.15695092,\n",
       "       0.3551805 , 0.77590025, 0.11861755, 0.75157479, 0.32548382,\n",
       "       0.19453186, 0.65738973, 0.60315428, 0.80197761, 0.68805684,\n",
       "       0.74278474, 0.32562766, 0.24195164, 0.7004918 , 0.74546779,\n",
       "       0.89240411, 0.43009414, 0.39761447, 0.72113037, 0.37264283,\n",
       "       0.84460586, 0.7867302 , 0.44319522, 0.70069685, 0.7036343 ])"
      ]
     },
     "execution_count": 77,
     "metadata": {},
     "output_type": "execute_result"
    }
   ],
   "source": [
    "# Aqui já será diferente\n",
    "np.random.uniform(low=0.10, high=0.90, size=50)"
   ]
  },
  {
   "cell_type": "code",
   "execution_count": 80,
   "metadata": {},
   "outputs": [
    {
     "name": "stdout",
     "output_type": "stream",
     "text": [
      "144.14150651114127\n"
     ]
    }
   ],
   "source": [
    "# numeros ponto flututante\n",
    "np.random.seed(84)\n",
    "rnd_coeficientes_angulares = np.random.uniform(low=0.10, high=0.90, size=100)\n",
    "\n",
    "# Com os coeficientes angulares armazenados na variável, calcularemos o valor da norma para cada um deles. \n",
    "# Ou seja, testaremos cada um.\n",
    "\n",
    "normas_teste = np.array([])\n",
    "_, b_moscow = regressao_linear(X=datas, Y=Moscow_precos)\n",
    "for i in range(rnd_coeficientes_angulares.size):\n",
    "    normas_teste = np.append(normas_teste, \n",
    "                             np.linalg.norm( Moscow_precos - (rnd_coeficientes_angulares[i]*X + b_moscow))\n",
    "                            )\n",
    "print(normas_teste.min())    "
   ]
  },
  {
   "cell_type": "markdown",
   "metadata": {},
   "source": [
    "##### `np.column_stack`"
   ]
  },
  {
   "cell_type": "code",
   "execution_count": 84,
   "metadata": {},
   "outputs": [
    {
     "data": {
      "text/plain": [
       "array([[1.47138970e+02, 1.36832795e-01],\n",
       "       [2.12634263e+02, 3.96193853e-01],\n",
       "       [1.79797926e+02, 2.93854614e-01],\n",
       "       [2.92365371e+02, 6.02784004e-01],\n",
       "       [4.17010895e+02, 8.92088048e-01],\n",
       "       [1.57794789e+02, 2.04470439e-01],\n",
       "       [1.65334959e+02, 2.38871331e-01],\n",
       "       [1.83528510e+02, 3.06651246e-01],\n",
       "       [2.26442173e+02, 4.34719173e-01],\n",
       "       [1.57863821e+02, 2.04815115e-01],\n",
       "       [1.91381422e+02, 3.32360100e-01],\n",
       "       [2.49665627e+02, 4.96244876e-01],\n",
       "       [4.08816297e+02, 8.73603452e-01],\n",
       "       [1.93135664e+02, 3.37911891e-01],\n",
       "       [3.00087116e+02, 6.21441549e-01],\n",
       "       [2.62303236e+02, 5.28490318e-01],\n",
       "       [3.80637191e+02, 8.09621105e-01],\n",
       "       [3.72792781e+02, 7.91678598e-01],\n",
       "       [3.99456159e+02, 8.52426259e-01],\n",
       "       [1.54065835e+02, 1.84666511e-01],\n",
       "       [2.87347745e+02, 5.90577856e-01],\n",
       "       [1.66292981e+02, 2.42872649e-01],\n",
       "       [1.50014587e+02, 1.59341647e-01],\n",
       "       [4.19079388e+02, 8.96746192e-01],\n",
       "       [2.08755332e+02, 3.85019182e-01],\n",
       "       [3.64039329e+02, 7.71579591e-01],\n",
       "       [2.95533610e+02, 6.10457133e-01],\n",
       "       [1.72581580e+02, 2.67699096e-01],\n",
       "       [4.12864635e+02, 8.82741553e-01],\n",
       "       [1.59069594e+02, 2.10729091e-01],\n",
       "       [2.67909585e+02, 5.42578488e-01],\n",
       "       [1.85541370e+02, 3.13387503e-01],\n",
       "       [1.96811932e+02, 3.49353446e-01],\n",
       "       [2.01898124e+02, 3.64798675e-01],\n",
       "       [1.60319658e+02, 2.16664750e-01],\n",
       "       [3.57543356e+02, 7.56607337e-01],\n",
       "       [1.63017127e+02, 2.28893954e-01],\n",
       "       [2.50607846e+02, 4.98674696e-01],\n",
       "       [2.01906963e+02, 3.64825163e-01],\n",
       "       [1.69514056e+02, 2.55873812e-01],\n",
       "       [1.60404734e+02, 2.17062053e-01],\n",
       "       [3.11758875e+02, 6.49380794e-01],\n",
       "       [4.18612603e+02, 8.95695282e-01],\n",
       "       [1.89957280e+02, 3.27805663e-01],\n",
       "       [2.72068603e+02, 5.52953548e-01],\n",
       "       [1.56188928e+02, 1.96246038e-01],\n",
       "       [1.46902474e+02, 1.34690357e-01],\n",
       "       [1.62427391e+02, 2.26281568e-01],\n",
       "       [2.30753506e+02, 4.46411433e-01],\n",
       "       [2.14593047e+02, 4.01772345e-01],\n",
       "       [1.48495416e+02, 1.48141097e-01],\n",
       "       [2.91164964e+02, 5.99869975e-01],\n",
       "       [2.47343531e+02, 4.90237320e-01],\n",
       "       [2.24488541e+02, 4.29372898e-01],\n",
       "       [2.36289430e+02, 4.61227883e-01],\n",
       "       [2.67713411e+02, 5.42087557e-01],\n",
       "       [3.97440057e+02, 8.47855493e-01],\n",
       "       [1.84983412e+02, 3.11531216e-01],\n",
       "       [1.44974215e+02, 1.14143458e-01],\n",
       "       [3.15691544e+02, 6.58730132e-01],\n",
       "       [3.52900313e+02, 7.45874224e-01],\n",
       "       [2.96947912e+02, 6.13874257e-01],\n",
       "       [2.59738412e+02, 5.22003253e-01],\n",
       "       [3.61568604e+02, 7.65890838e-01],\n",
       "       [2.07336819e+02, 3.80887466e-01],\n",
       "       [1.68450004e+02, 2.51650906e-01],\n",
       "       [1.44949449e+02, 1.13827615e-01],\n",
       "       [4.13679743e+02, 8.84579966e-01],\n",
       "       [3.54173090e+02, 7.48819153e-01],\n",
       "       [4.06618054e+02, 8.68636214e-01],\n",
       "       [1.44674641e+02, 1.10184840e-01],\n",
       "       [1.89549060e+02, 3.26492005e-01],\n",
       "       [1.76416588e+02, 2.81855776e-01],\n",
       "       [1.44141507e+02, 1.02185763e-01],\n",
       "       [2.06749378e+02, 3.79168955e-01],\n",
       "       [2.32777079e+02, 4.51851906e-01],\n",
       "       [1.66863461e+02, 2.45224309e-01],\n",
       "       [2.53560636e+02, 5.06261248e-01],\n",
       "       [1.89471453e+02, 3.26241845e-01],\n",
       "       [4.03523814e+02, 8.61637911e-01],\n",
       "       [2.43366584e+02, 4.79881898e-01],\n",
       "       [1.83938235e+02, 3.08031447e-01],\n",
       "       [1.96117079e+02, 3.47209860e-01],\n",
       "       [1.45213562e+02, 1.17103490e-01],\n",
       "       [1.89441478e+02, 3.26145185e-01],\n",
       "       [1.83438552e+02, 3.06347578e-01],\n",
       "       [4.02071376e+02, 8.58350258e-01],\n",
       "       [3.23983254e+02, 6.78345791e-01],\n",
       "       [3.60418380e+02, 7.63240042e-01],\n",
       "       [2.74409693e+02, 5.58766835e-01],\n",
       "       [1.56645959e+02, 1.98628852e-01],\n",
       "       [2.76261484e+02, 5.63352022e-01],\n",
       "       [2.65035226e+02, 5.35370792e-01],\n",
       "       [2.45768779e+02, 4.86147173e-01],\n",
       "       [2.84866277e+02, 5.84515617e-01],\n",
       "       [2.63281204e+02, 5.30956733e-01],\n",
       "       [2.32269143e+02, 4.50489028e-01],\n",
       "       [3.20932447e+02, 6.71143215e-01],\n",
       "       [1.98368771e+02, 3.54125873e-01],\n",
       "       [1.99978129e+02, 3.59016952e-01]])"
      ]
     },
     "execution_count": 84,
     "metadata": {},
     "output_type": "execute_result"
    }
   ],
   "source": [
    "dados = np.column_stack((normas_teste, rnd_coeficientes_angulares))\n",
    "dados"
   ]
  }
 ],
 "metadata": {
  "kernelspec": {
   "display_name": "base",
   "language": "python",
   "name": "python3"
  },
  "language_info": {
   "codemirror_mode": {
    "name": "ipython",
    "version": 3
   },
   "file_extension": ".py",
   "mimetype": "text/x-python",
   "name": "python",
   "nbconvert_exporter": "python",
   "pygments_lexer": "ipython3",
   "version": "3.12.3"
  }
 },
 "nbformat": 4,
 "nbformat_minor": 2
}
