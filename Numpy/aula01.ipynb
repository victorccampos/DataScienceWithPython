{
 "cells": [
  {
   "cell_type": "code",
   "execution_count": 1,
   "metadata": {},
   "outputs": [],
   "source": [
    "import numpy as np"
   ]
  },
  {
   "cell_type": "markdown",
   "metadata": {},
   "source": [
    "O arquivo `csv` tem as colunas com nomes, mas array só possui um tipo. Pra isso usamos o parâmetro `use_cols` com um arange (exclusivo): 1 a 88.  \n",
    "\n",
    "$7 \\cdot 12 + 3 = 87$  \n",
    "\n",
    "Podemos importar tanto localmente, com o `apples.csv` quanto via `url`."
   ]
  },
  {
   "cell_type": "code",
   "execution_count": 12,
   "metadata": {},
   "outputs": [],
   "source": [
    "URL: str = r'https://raw.githubusercontent.com/alura-cursos/numpy/dados/apples_ts.csv'\n",
    "data = np.loadtxt(URL, delimiter=\",\", usecols=np.arange(1, 88, 1))"
   ]
  },
  {
   "cell_type": "code",
   "execution_count": null,
   "metadata": {},
   "outputs": [
    {
     "data": {
      "text/plain": [
       "(2, (6, 87))"
      ]
     },
     "execution_count": 22,
     "metadata": {},
     "output_type": "execute_result"
    }
   ],
   "source": [
    "data.ndim, data.size, data.shape, data.T"
   ]
  },
  {
   "cell_type": "code",
   "execution_count": null,
   "metadata": {},
   "outputs": [
    {
     "name": "stdout",
     "output_type": "stream",
     "text": [
      " rows, cols = (6, 87)\n"
     ]
    }
   ],
   "source": [
    "print(f\" rows, cols = {data.shape}\")"
   ]
  },
  {
   "cell_type": "markdown",
   "metadata": {},
   "source": [
    "##### 01 - Faça como eu fiz\n",
    "Um colega pediu para você carregar uma base de dados e verificar o número de linhas e colunas do arquivo carregado. Ele estava com dúvidas se o número total de linhas havia sido carregado.\n",
    "\n",
    "Como determinar as dimensões corretas de um array?\n",
    "\n",
    "> Para responder essa pergunta você precisará do dataset. Você pode usar a opção `skiprows=1` para pular a primeira linha do arquivo."
   ]
  },
  {
   "cell_type": "code",
   "execution_count": 32,
   "metadata": {},
   "outputs": [
    {
     "ename": "SyntaxError",
     "evalue": "invalid syntax (1864760925.py, line 1)",
     "output_type": "error",
     "traceback": [
      "\u001b[1;36m  Cell \u001b[1;32mIn[32], line 1\u001b[1;36m\u001b[0m\n\u001b[1;33m    dataset = np.loadtxt(, skiprows=1, delimiter=',', dtype=float)\u001b[0m\n\u001b[1;37m                         ^\u001b[0m\n\u001b[1;31mSyntaxError\u001b[0m\u001b[1;31m:\u001b[0m invalid syntax\n"
     ]
    }
   ],
   "source": [
    "dataset = np.loadtxt(, skiprows=1, delimiter=',', dtype=float)\n",
    "dataset"
   ]
  }
 ],
 "metadata": {
  "kernelspec": {
   "display_name": "base",
   "language": "python",
   "name": "python3"
  },
  "language_info": {
   "codemirror_mode": {
    "name": "ipython",
    "version": 3
   },
   "file_extension": ".py",
   "mimetype": "text/x-python",
   "name": "python",
   "nbconvert_exporter": "python",
   "pygments_lexer": "ipython3",
   "version": "3.12.3"
  }
 },
 "nbformat": 4,
 "nbformat_minor": 2
}
